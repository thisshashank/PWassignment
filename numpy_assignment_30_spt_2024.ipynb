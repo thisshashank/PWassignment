{
  "cells": [
    {
      "cell_type": "markdown",
      "metadata": {
        "id": "view-in-github",
        "colab_type": "text"
      },
      "source": [
        "<a href=\"https://colab.research.google.com/github/thisshashank/PWassignment/blob/main/numpy_assignment_30_spt_2024.ipynb\" target=\"_parent\"><img src=\"https://colab.research.google.com/assets/colab-badge.svg\" alt=\"Open In Colab\"/></a>"
      ]
    },
    {
      "cell_type": "markdown",
      "metadata": {
        "id": "g0GZWVwPRTpV"
      },
      "source": [
        "# ------------------------Theory-----------------------------------------"
      ]
    },
    {
      "cell_type": "markdown",
      "metadata": {
        "id": "BMS3I3E0RTpW"
      },
      "source": [
        "# 1. Explain the purpose and advantages of NumPy in scientific computing and data analysis. How does it enhance Python's capabilities for numerical operations?"
      ]
    },
    {
      "cell_type": "markdown",
      "metadata": {
        "id": "6XsQ3wviRTpX"
      },
      "source": [
        "NumPy (Numerical Python) is a core library for scientific computing and data analysis in Python. It provides powerful tools for working with large, multi-dimensional arrays and matrices, along with a collection of mathematical functions to operate on them efficiently.\n",
        "\n",
        "Purpose:\n",
        "1. Efficient array handling: Provides a high-performance multidimensional array object (ndarray).\n",
        "\n",
        "2. Mathematical operations: Supports a wide range of mathematical operations on arrays (e.g., element-wise operations, matrix multiplication).\n",
        "3. Interfacing with C/C++: Allows for integration with lower-level languages, enabling faster computation.\n",
        "\n",
        "Advantages:\n",
        "\n",
        "a. Speed: NumPy operations are faster than native Python operations due to vectorization, avoiding Python loops.\n",
        "b. Memory efficiency: Handles large datasets using less memory.\n",
        "c. Broad functionality: Offers support for random number generation, Fourier transforms, and linear algebra routines.\n",
        "D. Interoperability: Integrates well with other libraries like pandas, SciPy, and matplotlib, enhancing the ecosystem for data analysis.\n",
        "By extending Python’s capabilities for numerical tasks, NumPy makes it suitable for high-performance computing and data manipulation.\n",
        "\n",
        "\n",
        "\n",
        "\n",
        "\n",
        "\n"
      ]
    },
    {
      "cell_type": "markdown",
      "metadata": {
        "id": "G09o1ce6RTpX"
      },
      "source": []
    },
    {
      "cell_type": "markdown",
      "metadata": {
        "id": "uCSmgt0RRTpY"
      },
      "source": [
        "# 2. Compare and contrast np.mean() and np.average() functions in NumPy. When would you use one over the other?"
      ]
    },
    {
      "cell_type": "markdown",
      "metadata": {
        "id": "57_IPCdORTpY"
      },
      "source": [
        "Comparison:\n",
        "1. np.mean(): Calculates the arithmetic mean (average) of the array elements. It treats all values equally.\n",
        "2. np.average(): Similar to np.mean(), but allows specifying weights for each element, providing a weighted average.\n",
        "Contrast:\n",
        "1. Weights: np.mean() doesn’t support weights, while np.average() does.\n",
        "2. Use case: Use np.mean() for a simple average and np.average() when you need to account for weights.\n",
        "\n",
        "When to use:\n",
        "1. np.mean(): For equal importance of all data points.\n",
        "2. np.average(): When certain data points should have more influence on the result (weighted average)."
      ]
    },
    {
      "cell_type": "markdown",
      "metadata": {
        "id": "cjf60T70RTpY"
      },
      "source": []
    },
    {
      "cell_type": "markdown",
      "metadata": {
        "id": "63199FIZRTpY"
      },
      "source": [
        "# 3. Describe the methods for reversing a NumPy array along different axes. Provide examples for 1D and 2D arrays."
      ]
    },
    {
      "cell_type": "markdown",
      "metadata": {
        "id": "g0j4AVplRTpY"
      },
      "source": [
        "\n",
        "Methods for Reversing a NumPy Array:\n",
        "1. For 1D array:\n",
        "Use slicing: [::-1]"
      ]
    },
    {
      "cell_type": "code",
      "execution_count": null,
      "metadata": {
        "id": "tTlvH59fRTpZ",
        "outputId": "e91db469-d035-4c02-d19a-b5770c3a1de7"
      },
      "outputs": [
        {
          "name": "stdout",
          "output_type": "stream",
          "text": [
            "[4 3 2 1]\n"
          ]
        }
      ],
      "source": [
        "import numpy as np\n",
        "arr_1d = np.array([1, 2, 3, 4])\n",
        "reversed_1d = arr_1d[::-1]\n",
        "print(reversed_1d)  # Output: [4, 3, 2, 1]\n"
      ]
    },
    {
      "cell_type": "markdown",
      "metadata": {
        "id": "FYrJg83cRTpa"
      },
      "source": [
        "For 2D array:\n",
        "\n",
        "Reverse rows (axis 0): [::-1, :]\n",
        "Reverse columns (axis 1): [:, ::-1]\n",
        "Reverse both: [::-1, ::-1]"
      ]
    },
    {
      "cell_type": "code",
      "execution_count": null,
      "metadata": {
        "id": "ELlg_9sVRTpa"
      },
      "outputs": [],
      "source": [
        "arr_2d = np.array([[1, 2], [3, 4], [5, 6]])\n",
        "reverse_rows = arr_2d[::-1, :]\n",
        "reverse_cols = arr_2d[:, ::-1]\n",
        "reverse_both = arr_2d[::-1, ::-1]\n"
      ]
    },
    {
      "cell_type": "markdown",
      "metadata": {
        "id": "80qC5WyxRTpa"
      },
      "source": [
        "# 4. How can you determine the data type of elements in a NumPy array? Discuss the importance of data types in memory management and performance."
      ]
    },
    {
      "cell_type": "markdown",
      "metadata": {
        "id": "Yv53wWoyRTpa"
      },
      "source": [
        "we can determine the data type of elements in a NumPy array using the .dtype attribute."
      ]
    },
    {
      "cell_type": "code",
      "execution_count": null,
      "metadata": {
        "id": "lNYKUY1KRTpa"
      },
      "outputs": [],
      "source": [
        "arr = np.array([1, 2, 3])\n",
        "print(arr.dtype)"
      ]
    },
    {
      "cell_type": "markdown",
      "metadata": {
        "id": "6swhRTKqRTpa"
      },
      "source": [
        "# Importance of Data Types:\n",
        "a. Memory management: NumPy allows control over memory usage by specifying    b. data types. For example, using int8 instead of int64 reduces memory consumption when working with small integers.\n",
        "c. Performance: Proper data types improve performance. Smaller or simpler data types (like float32 vs float64) allow faster computations and reduce memory overhead, which is crucial for large datasets."
      ]
    },
    {
      "cell_type": "markdown",
      "metadata": {
        "id": "leB1Die-RTpa"
      },
      "source": [
        "# 5. Define ndarrays in NumPy and explain their key features. How do they differ from standard Python lists?"
      ]
    },
    {
      "cell_type": "markdown",
      "metadata": {
        "id": "I7c-YohBRTpb"
      },
      "source": [
        "ndarray (N-dimensional array):\n",
        "In NumPy, an ndarray is a multidimensional, homogeneous array of fixed-size data elements, all of the same type.\n",
        "\n",
        "Key Features:\n",
        "1. Homogeneous: All elements have the same data type.\n",
        "2. Efficient Memory: Stored in contiguous blocks of memory, improving speed and efficiency.\n",
        "3. Supports Vectorized Operations: Operations on arrays are faster due to element-wise computation without explicit loops.\n",
        "4. Multidimensional: Supports multi-dimensional arrays (1D, 2D, etc.).\n",
        "5. Broadcasting: Allows operations on arrays of different shapes without       extensive reshaping.\n",
        "\n",
        "Differences from Python Lists:\n",
        "Data Type: Lists can store mixed data types, while ndarray is homogeneous.\n",
        "Performance: `nd"
      ]
    },
    {
      "cell_type": "markdown",
      "metadata": {
        "id": "Biee-edFRTpb"
      },
      "source": [
        "# 6. Analyze the performance benefits of NumPy arrays over Python lists for large-scale numerical operations"
      ]
    },
    {
      "cell_type": "markdown",
      "metadata": {
        "id": "KvcGCA-GRTpb"
      },
      "source": [
        "Performance Benefits of NumPy Arrays over Python Lists:\n",
        "Speed: NumPy arrays are much faster than Python lists due to optimized, compiled C code and support for vectorized operations, which eliminate loops.\n",
        "\n",
        "Example: Element-wise operations on arrays are performed in parallel, whereas Python lists require explicit iteration.\n",
        "Memory Efficiency: NumPy arrays use less memory by storing elements in contiguous memory blocks and using fixed data types (e.g., int32, float64), unlike Python lists which store heterogeneous types with higher overhead.\n",
        "\n",
        "Vectorization: NumPy operations are vectorized, meaning mathematical operations on arrays are executed in bulk rather than element by element, significantly speeding up computations.\n",
        "\n",
        "Built-in functions: NumPy offers a wide array of optimized mathematical functions for array operations, making it ideal for large-scale numerical computations.\n",
        "\n",
        "Overall, NumPy provides better performance, particularly for large datasets, due to optimized memory usage and faster execution."
      ]
    },
    {
      "cell_type": "markdown",
      "metadata": {
        "id": "5BAvt6dTRTpb"
      },
      "source": [
        "# 7. Compare vstack() and hstack() functions in NumPy. Provide examples demonstrating their usage and output."
      ]
    },
    {
      "cell_type": "markdown",
      "metadata": {
        "id": "7aXImlW4RTpb"
      },
      "source": [
        "\n",
        "Comparison:\n",
        "vstack(): Stacks arrays vertically (row-wise). Use vstack() to stack arrays row-wise, resulting in a 2D array.\n",
        "\n"
      ]
    },
    {
      "cell_type": "code",
      "execution_count": null,
      "metadata": {
        "id": "DxmkfV2_RTpb"
      },
      "outputs": [],
      "source": [
        "arr1 = np.array([1, 2])\n",
        "arr2 = np.array([3, 4])\n",
        "result_v = np.vstack((arr1, arr2))\n",
        "print(result_v)\n",
        "# Output:\n",
        "# [[1 2]\n",
        "#  [3 4]]\n"
      ]
    },
    {
      "cell_type": "markdown",
      "metadata": {
        "id": "6j_TRwZ-RTpb"
      },
      "source": [
        "hstack(): Stacks arrays horizontally (column-wise). Use hstack() to stack arrays column-wise, resulting in a single row (or wider array)."
      ]
    },
    {
      "cell_type": "code",
      "execution_count": null,
      "metadata": {
        "id": "aX3j5JM1RTpb"
      },
      "outputs": [],
      "source": [
        "result_h = np.hstack((arr1, arr2))\n",
        "print(result_h)\n",
        "# Output:\n",
        "# [1 2 3 4]\n"
      ]
    },
    {
      "cell_type": "markdown",
      "metadata": {
        "id": "dF8TrfUDRTpb"
      },
      "source": [
        "# 8. Explain the differences between fliplr() and flipud() methods in NumPy, including their effects on various array dimensions."
      ]
    },
    {
      "cell_type": "markdown",
      "metadata": {
        "id": "xwiz7Ap3RTpb"
      },
      "source": [
        "Differences Between fliplr() and flipud() in NumPy:\n",
        "1. fliplr() (Flip Left-Right):\n",
        "\n",
        "a. Reverses the elements horizontally (left to right) along the second axis (axis 1).\n",
        "b. Only works on 2D or higher-dimensional arrays.\n",
        "c. Effect: Columns are reversed."
      ]
    },
    {
      "cell_type": "code",
      "execution_count": null,
      "metadata": {
        "id": "-iDGY42sRTpb"
      },
      "outputs": [],
      "source": [
        "arr = np.array([[1, 2], [3, 4], [5, 6]])\n",
        "result = np.fliplr(arr)\n",
        "print(result)\n",
        "# Output:\n",
        "# [[2 1]\n",
        "#  [4 3]\n",
        "#  [6 5]]\n"
      ]
    },
    {
      "cell_type": "markdown",
      "metadata": {
        "id": "Y5qtJoSzRTpc"
      },
      "source": [
        "flipud() (Flip Up-Down):\n",
        "\n",
        "a. Reverses the elements vertically (top to bottom) along the first axis (axis 0).\n",
        "b. Works on both 1D and multi-dimensional arrays.\n",
        "c. Effect: Rows are reversed."
      ]
    },
    {
      "cell_type": "code",
      "execution_count": null,
      "metadata": {
        "id": "SV8EC3wXRTpc"
      },
      "outputs": [],
      "source": [
        "result = np.flipud(arr)\n",
        "print(result)\n",
        "# Output:\n",
        "# [[5 6]\n",
        "#  [3 4]\n",
        "#  [1 2]]\n"
      ]
    },
    {
      "cell_type": "code",
      "execution_count": null,
      "metadata": {
        "id": "tDg_8O-kRTpc"
      },
      "outputs": [],
      "source": []
    },
    {
      "cell_type": "markdown",
      "metadata": {
        "id": "YU-FjDGCRTpc"
      },
      "source": [
        "# 9. Discuss the functionality of the array_split() method in NumPy. How does it handle uneven splits?"
      ]
    },
    {
      "cell_type": "markdown",
      "metadata": {
        "id": "WgpmxbwkRTpc"
      },
      "source": [
        "Functionality of array_split() in NumPy:\n",
        "array_split() splits an array into specified sections along a given axis. Unlike split(), it can handle uneven splits.\n",
        "\n",
        "Handling Uneven Splits:\n",
        "When the array doesn't divide evenly by the number of sections, array_split() ensures that smaller sub-arrays are created. It distributes the leftover elements across the first few sections."
      ]
    },
    {
      "cell_type": "code",
      "execution_count": null,
      "metadata": {
        "id": "gkc7-VSURTpc"
      },
      "outputs": [],
      "source": [
        "arr = np.array([1, 2, 3, 4, 5])\n",
        "result = np.array_split(arr, 3)\n",
        "print(result)\n",
        "\n"
      ]
    },
    {
      "cell_type": "markdown",
      "metadata": {
        "id": "69GT98AcRTpc"
      },
      "source": [
        "# 10. Explain the concepts of vectorization and broadcasting in NumPy. How do they contribute to efficient array operations?"
      ]
    },
    {
      "cell_type": "markdown",
      "metadata": {
        "id": "4eXE_KrcRTpc"
      },
      "source": [
        "# Vectorization:\n",
        "Definition: Vectorization is the process of applying operations to entire arrays (or \"vectors\") without explicit loops.\n",
        "Efficiency: It leverages low-level optimizations in NumPy (C-based) for faster computations by avoiding Python's slower loops."
      ]
    },
    {
      "cell_type": "code",
      "execution_count": null,
      "metadata": {
        "id": "mmMt3Az_RTpc"
      },
      "outputs": [],
      "source": [
        "arr = np.array([1, 2, 3])\n",
        "result = arr * 2\n"
      ]
    },
    {
      "cell_type": "markdown",
      "metadata": {
        "id": "f86tXteQRTpc"
      },
      "source": [
        "# Broadcasting:\n",
        "Definition: Broadcasting allows NumPy to perform operations on arrays of different shapes by \"stretching\" the smaller array to match the dimensions of the larger one.\n",
        "Efficiency: It avoids memory duplication and reduces computation time by applying operations element-wise on arrays with different shapes.\n"
      ]
    },
    {
      "cell_type": "code",
      "execution_count": null,
      "metadata": {
        "id": "4-zRD_GzRTpc"
      },
      "outputs": [],
      "source": [
        "arr = np.array([1, 2, 3])\n",
        "result = arr + 5  # Adds 5 to each element\n",
        "# Output: [6, 7, 8]\n"
      ]
    },
    {
      "cell_type": "markdown",
      "metadata": {
        "id": "DdTOv7ZnRTpg"
      },
      "source": [
        "# Contribution to Efficiency:\n",
        "Vectorization eliminates loops, speeding up operations.\n",
        "Broadcasting reduces memory usage and allows for flexible, element-wise operations on arrays with differing shapes. Together, they make array operations in NumPy faster and more memory-efficient.\n",
        "\n",
        "\n",
        "\n",
        "\n",
        "\n"
      ]
    },
    {
      "cell_type": "markdown",
      "metadata": {
        "id": "0svqSmV8RTpg"
      },
      "source": []
    },
    {
      "cell_type": "markdown",
      "metadata": {
        "id": "vyq89S7qRTpg"
      },
      "source": [
        "# --------------------------------Practical Questions:-----------------------------------"
      ]
    },
    {
      "cell_type": "markdown",
      "metadata": {
        "id": "mTBKsCvwRTpg"
      },
      "source": [
        "# 1. Create a 3x3 NumPy array with random integers between 1 and 100. Then, interchange its rows and columns"
      ]
    },
    {
      "cell_type": "code",
      "execution_count": null,
      "metadata": {
        "id": "1YfNxBzQRTph",
        "outputId": "2e4f6a1c-8759-4052-b830-be75b7a022f3"
      },
      "outputs": [
        {
          "data": {
            "text/plain": [
              "(array([[79, 43, 97],\n",
              "        [78, 54, 79],\n",
              "        [94, 34, 67]]),\n",
              " array([[79, 78, 94],\n",
              "        [43, 54, 34],\n",
              "        [97, 79, 67]]))"
            ]
          },
          "execution_count": 8,
          "metadata": {},
          "output_type": "execute_result"
        }
      ],
      "source": [
        "import numpy as np\n",
        "\n",
        "arr = np.random.randint(1, 101, size=(3, 3))\n",
        "\n",
        "\n",
        "transposed_arr = arr.T\n",
        "\n",
        "arr, transposed_arr\n"
      ]
    },
    {
      "cell_type": "markdown",
      "metadata": {
        "id": "H6dCKIlZRTph"
      },
      "source": [
        "# 2. Generate a 1D NumPy array with 10 elements. Reshape it into a 2x5 array, then into a 5x2 array"
      ]
    },
    {
      "cell_type": "markdown",
      "metadata": {
        "id": "qLE25VKfRTph"
      },
      "source": [
        "# Generate a 1D NumPy array with 10 elements\n",
        "arr_1d = np.arange(10)\n",
        "\n",
        "# Reshape into a 2x5 array\n",
        "arr_2x5 = arr_1d.reshape(2, 5)\n",
        "\n",
        "# Reshape into a 5x2 array\n",
        "arr_5x2 = arr_1d.reshape(5, 2)\n",
        "\n",
        "arr_1d, arr_2x5, arr_5x2\n"
      ]
    },
    {
      "cell_type": "markdown",
      "metadata": {
        "id": "XptPkC15RTph"
      },
      "source": [
        "# 3. Create a 4x4 NumPy array with random float values. Add a border of zeros around it, resulting in a 6x6 array"
      ]
    },
    {
      "cell_type": "code",
      "execution_count": null,
      "metadata": {
        "id": "mOe24NwfRTph",
        "outputId": "c3215c3e-547b-4be9-fc55-9ee8589756fa"
      },
      "outputs": [
        {
          "name": "stdout",
          "output_type": "stream",
          "text": [
            "Original 4x4 Array:\n",
            "[[0.43095747 0.93623664 0.10633015 0.56484775]\n",
            " [0.96108995 0.71008973 0.98400858 0.03103956]\n",
            " [0.00576692 0.14735936 0.31429749 0.461017  ]\n",
            " [0.12054093 0.09091569 0.13247013 0.14809387]]\n",
            "\n",
            "6x6 Array with Zero Border:\n",
            "[[0.         0.         0.         0.         0.         0.        ]\n",
            " [0.         0.43095747 0.93623664 0.10633015 0.56484775 0.        ]\n",
            " [0.         0.96108995 0.71008973 0.98400858 0.03103956 0.        ]\n",
            " [0.         0.00576692 0.14735936 0.31429749 0.461017   0.        ]\n",
            " [0.         0.12054093 0.09091569 0.13247013 0.14809387 0.        ]\n",
            " [0.         0.         0.         0.         0.         0.        ]]\n"
          ]
        }
      ],
      "source": [
        "import numpy as np\n",
        "\n",
        "# Create a 4x4 array with random float values\n",
        "original_array = np.random.rand(4, 4)\n",
        "\n",
        "# Add a border of zeros\n",
        "bordered_array = np.pad(original_array, pad_width=1, mode='constant', constant_values=0)\n",
        "\n",
        "print(\"Original 4x4 Array:\")\n",
        "print(original_array)\n",
        "\n",
        "print(\"\\n6x6 Array with Zero Border:\")\n",
        "print(bordered_array)\n"
      ]
    },
    {
      "cell_type": "markdown",
      "metadata": {
        "id": "U2DC_iS3RTph"
      },
      "source": [
        "# 4. Using NumPy, create an array of integers from 10 to 60 with a step of 5."
      ]
    },
    {
      "cell_type": "code",
      "execution_count": null,
      "metadata": {
        "id": "HFb_LMG7RTph"
      },
      "outputs": [],
      "source": [
        "import numpy as np\n",
        "\n",
        "# Create an array of integers from 10 to 60 with a step of 5\n",
        "array = np.arange(10, 61, 5)\n",
        "\n",
        "print(array)\n"
      ]
    },
    {
      "cell_type": "markdown",
      "metadata": {
        "id": "k7YXs6z3RTpi"
      },
      "source": [
        "# 5. Create a NumPy array of strings ['python', 'numpy', 'pandas']. Apply different case transformations\n",
        "(uppercase, lowercase, title case, etc.) to each element."
      ]
    },
    {
      "cell_type": "code",
      "execution_count": null,
      "metadata": {
        "id": "mXV-LeoCRTpi",
        "outputId": "c768c427-add0-4dc2-dd10-659c17851946"
      },
      "outputs": [
        {
          "name": "stdout",
          "output_type": "stream",
          "text": [
            "Original Array:\n",
            "['python' 'numpy' 'pandas']\n",
            "\n",
            "Uppercase:\n",
            "['PYTHON' 'NUMPY' 'PANDAS']\n",
            "\n",
            "Lowercase:\n",
            "['python' 'numpy' 'pandas']\n",
            "\n",
            "Title Case:\n",
            "['Python' 'Numpy' 'Pandas']\n",
            "\n",
            "Capitalized:\n",
            "['Python' 'Numpy' 'Pandas']\n"
          ]
        }
      ],
      "source": [
        "import numpy as np\n",
        "\n",
        "# Create an array of strings\n",
        "strings = np.array(['python', 'numpy', 'pandas'])\n",
        "\n",
        "# Apply different case transformations\n",
        "uppercase = np.char.upper(strings)\n",
        "lowercase = np.char.lower(strings)\n",
        "titlecase = np.char.title(strings)\n",
        "capitalize = np.char.capitalize(strings)\n",
        "\n",
        "# Print the results\n",
        "print(\"Original Array:\")\n",
        "print(strings)\n",
        "\n",
        "print(\"\\nUppercase:\")\n",
        "print(uppercase)\n",
        "\n",
        "print(\"\\nLowercase:\")\n",
        "print(lowercase)\n",
        "\n",
        "print(\"\\nTitle Case:\")\n",
        "print(titlecase)\n",
        "\n",
        "print(\"\\nCapitalized:\")\n",
        "print(capitalize)\n"
      ]
    },
    {
      "cell_type": "markdown",
      "metadata": {
        "id": "dLrhts4rRTpi"
      },
      "source": [
        "# 6. Generate a NumPy array of words. Insert a space between each character of every word in the array."
      ]
    },
    {
      "cell_type": "code",
      "execution_count": null,
      "metadata": {
        "id": "zIXbeTqPRTpi"
      },
      "outputs": [],
      "source": [
        "import numpy as np\n",
        "\n",
        "# Create an array of words\n",
        "words = np.array(['hello', 'world', 'numpy', 'python'])\n",
        "\n",
        "# Insert a space between each character of every word\n",
        "spaced_words = np.char.join(' ', words)\n",
        "\n",
        "# Print the results\n",
        "print(\"Original Array:\")\n",
        "print(words)\n",
        "\n",
        "print(\"\\nWords with Spaces Between Characters:\")\n",
        "for word in spaced_words:\n",
        "    print(word)\n"
      ]
    },
    {
      "cell_type": "markdown",
      "metadata": {
        "id": "-dh_v7wJRTpi"
      },
      "source": [
        "# 7. Create two 2D NumPy arrays and perform element-wise addition, subtraction, multiplication, and division"
      ]
    },
    {
      "cell_type": "code",
      "execution_count": null,
      "metadata": {
        "id": "22tkCeGrRTpi",
        "outputId": "63c8edb3-f7f1-4da0-cf30-3c54b6a1db0d"
      },
      "outputs": [
        {
          "name": "stdout",
          "output_type": "stream",
          "text": [
            "Array 1:\n",
            "[[1 2 3]\n",
            " [4 5 6]]\n",
            "\n",
            "Array 2:\n",
            "[[ 7  8  9]\n",
            " [10 11 12]]\n",
            "\n",
            "Element-wise Addition:\n",
            "[[ 8 10 12]\n",
            " [14 16 18]]\n",
            "\n",
            "Element-wise Subtraction:\n",
            "[[-6 -6 -6]\n",
            " [-6 -6 -6]]\n",
            "\n",
            "Element-wise Multiplication:\n",
            "[[ 7 16 27]\n",
            " [40 55 72]]\n",
            "\n",
            "Element-wise Division:\n",
            "[[0.14285714 0.25       0.33333333]\n",
            " [0.4        0.45454545 0.5       ]]\n"
          ]
        }
      ],
      "source": [
        "import numpy as np\n",
        "\n",
        "# Create two 2D NumPy arrays\n",
        "array1 = np.array([[1, 2, 3],\n",
        "                    [4, 5, 6]])\n",
        "\n",
        "array2 = np.array([[7, 8, 9],\n",
        "                    [10, 11, 12]])\n",
        "\n",
        "# Perform element-wise addition\n",
        "addition = array1 + array2\n",
        "\n",
        "# Perform element-wise subtraction\n",
        "subtraction = array1 - array2\n",
        "\n",
        "# Perform element-wise multiplication\n",
        "multiplication = array1 * array2\n",
        "\n",
        "# Perform element-wise division\n",
        "division = array1 / array2\n",
        "\n",
        "# Print the results\n",
        "print(\"Array 1:\")\n",
        "print(array1)\n",
        "\n",
        "print(\"\\nArray 2:\")\n",
        "print(array2)\n",
        "\n",
        "print(\"\\nElement-wise Addition:\")\n",
        "print(addition)\n",
        "\n",
        "print(\"\\nElement-wise Subtraction:\")\n",
        "print(subtraction)\n",
        "\n",
        "print(\"\\nElement-wise Multiplication:\")\n",
        "print(multiplication)\n",
        "\n",
        "print(\"\\nElement-wise Division:\")\n",
        "print(division)\n"
      ]
    },
    {
      "cell_type": "markdown",
      "metadata": {
        "id": "85K3pEBqRTpi"
      },
      "source": [
        "# 8. Use NumPy to create a 5x5 identity matrix, then extract its diagonal elements"
      ]
    },
    {
      "cell_type": "code",
      "execution_count": null,
      "metadata": {
        "id": "6x_0n_elRTpi",
        "outputId": "0211b05e-ad28-4288-e206-96fcfe529c02"
      },
      "outputs": [
        {
          "name": "stdout",
          "output_type": "stream",
          "text": [
            "5x5 Identity Matrix:\n",
            "[[1. 0. 0. 0. 0.]\n",
            " [0. 1. 0. 0. 0.]\n",
            " [0. 0. 1. 0. 0.]\n",
            " [0. 0. 0. 1. 0.]\n",
            " [0. 0. 0. 0. 1.]]\n",
            "\n",
            "Diagonal Elements:\n",
            "[1. 1. 1. 1. 1.]\n"
          ]
        }
      ],
      "source": [
        "import numpy as np\n",
        "\n",
        "# Create a 5x5 identity matrix\n",
        "identity_matrix = np.eye(5)\n",
        "\n",
        "# Extract the diagonal elements\n",
        "diagonal_elements = np.diag(identity_matrix)\n",
        "\n",
        "# Print the results\n",
        "print(\"5x5 Identity Matrix:\")\n",
        "print(identity_matrix)\n",
        "\n",
        "print(\"\\nDiagonal Elements:\")\n",
        "print(diagonal_elements)\n"
      ]
    },
    {
      "cell_type": "markdown",
      "metadata": {
        "id": "YhYIgt7hRTpj"
      },
      "source": [
        "# 9. Generate a NumPy array of 100 random integers between 0 and 1000. Find and display all prime numbers in this array"
      ]
    },
    {
      "cell_type": "code",
      "execution_count": null,
      "metadata": {
        "id": "6x4CZzFXRTpj",
        "outputId": "e0acf8a4-5989-4f09-b9ac-81597871333b"
      },
      "outputs": [
        {
          "name": "stdout",
          "output_type": "stream",
          "text": [
            "Random Integers Array:\n",
            "[541 532 282 737 353 986 165 459 741 408 570 248 140 549 631   3 970 120\n",
            " 709 671 958 360 386  62  51 120 700 473 526 118  40 500  27 126 315 905\n",
            " 631 234 300 208 248 482 537 667 939 985 707  29 143 560 144 506  92 879\n",
            " 699 611 271 538  78 271 500 813 803 113 593 249 324 190 413 648 822 825\n",
            " 530 208 742 933 395 868 191 150 222 841 724 628 252 234 652 933 979 969\n",
            " 782 564 870 511 601 880 301 724 509 140]\n",
            "\n",
            "Prime Numbers in the Array:\n",
            "[541 353 631   3 709 631  29 271 271 113 593 191 601 509]\n"
          ]
        }
      ],
      "source": [
        "import numpy as np\n",
        "\n",
        "# Function to check if a number is prime\n",
        "def is_prime(n):\n",
        "    if n <= 1:\n",
        "        return False\n",
        "    for i in range(2, int(n**0.5) + 1):\n",
        "        if n % i == 0:\n",
        "            return False\n",
        "    return True\n",
        "\n",
        "# Generate a NumPy array of 100 random integers between 0 and 1000\n",
        "random_integers = np.random.randint(0, 1001, size=100)\n",
        "\n",
        "# Find all prime numbers in the array\n",
        "prime_numbers = np.array([num for num in random_integers if is_prime(num)])\n",
        "\n",
        "# Print the results\n",
        "print(\"Random Integers Array:\")\n",
        "print(random_integers)\n",
        "\n",
        "print(\"\\nPrime Numbers in the Array:\")\n",
        "print(prime_numbers)\n"
      ]
    },
    {
      "cell_type": "markdown",
      "metadata": {
        "id": "lFy6aHzCRTpj"
      },
      "source": [
        "# 10. Create a NumPy array representing daily temperatures for a month. Calculate and display the weekly averages"
      ]
    },
    {
      "cell_type": "code",
      "execution_count": null,
      "metadata": {
        "id": "JcUcEahdRTpj",
        "outputId": "a888ff29-d88f-4c98-de6d-6c23b31e92e6"
      },
      "outputs": [
        {
          "name": "stdout",
          "output_type": "stream",
          "text": [
            "Daily Temperatures for the Month:\n",
            "[15  3 13 11 28  4 26  2  8 18  8 23 34  0  5 15 11  2 22 14 25 33 33 21\n",
            " 34  5 32 18 11 17]\n",
            "\n",
            "Weekly Averages:\n",
            "[14.285714285714286, 13.285714285714286, 13.428571428571429, 25.142857142857142, 14.0]\n"
          ]
        }
      ],
      "source": [
        "import numpy as np\n",
        "\n",
        "daily_temperatures = np.random.randint(0, 36, size=30)\n",
        "weekly_averages = []\n",
        "for i in range(0, 30, 7):\n",
        "    weekly_avg = daily_temperatures[i:i+7].mean()\n",
        "    weekly_averages.append(weekly_avg)\n",
        "\n",
        "print(\"Daily Temperatures for the Month:\")\n",
        "print(daily_temperatures)\n",
        "\n",
        "print(\"\\nWeekly Averages:\")\n",
        "print(weekly_averages)\n"
      ]
    },
    {
      "cell_type": "code",
      "execution_count": null,
      "metadata": {
        "id": "5ucnbSo_RTpj"
      },
      "outputs": [],
      "source": []
    }
  ],
  "metadata": {
    "kernelspec": {
      "display_name": "base",
      "language": "python",
      "name": "python3"
    },
    "language_info": {
      "codemirror_mode": {
        "name": "ipython",
        "version": 3
      },
      "file_extension": ".py",
      "mimetype": "text/x-python",
      "name": "python",
      "nbconvert_exporter": "python",
      "pygments_lexer": "ipython3",
      "version": "3.11.3"
    },
    "colab": {
      "provenance": [],
      "include_colab_link": true
    }
  },
  "nbformat": 4,
  "nbformat_minor": 0
}