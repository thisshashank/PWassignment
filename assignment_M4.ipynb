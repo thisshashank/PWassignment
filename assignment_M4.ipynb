{
  "cells": [
    {
      "cell_type": "markdown",
      "metadata": {
        "id": "view-in-github",
        "colab_type": "text"
      },
      "source": [
        "<a href=\"https://colab.research.google.com/github/thisshashank/PWassignment/blob/main/assignment_M4.ipynb\" target=\"_parent\"><img src=\"https://colab.research.google.com/assets/colab-badge.svg\" alt=\"Open In Colab\"/></a>"
      ]
    },
    {
      "cell_type": "markdown",
      "metadata": {
        "id": "yPfAhc3Xpuux"
      },
      "source": [
        "# Ques 1 - explain the key feature of python that make it popular choice of programming.\n",
        "\n"
      ]
    },
    {
      "cell_type": "markdown",
      "metadata": {
        "id": "OdSWI29Upuu1"
      },
      "source": [
        "ans 1 -\n",
        "Python have various feature that make it popular .\n",
        "1- Easy in learnning and useing - python syntea are readable . coding is not cpmplicated .\n",
        "2- Lagre libray - python have very large library that make coding easy for eaample numpy , pandas tensorflow and matplotlib.\n",
        "3- Strong  Community - its have large active community Support and resources\n",
        "4- Integration allowed - python can be integrated other coding languages like C and C++ and JaVa.\n",
        "5- versatile use case - this can be used for data analysis data science , ML ,aI and web development.\n",
        "6- FaST - do not required to declaring type like string , float. coding time is less\n",
        ""
      ]
    },
    {
      "cell_type": "markdown",
      "metadata": {
        "id": "bj7IwEhUpuu2"
      },
      "source": [
        "# ques 2 - Describe the role of predefind keywords in python and provide example how they are used in program.\n"
      ]
    },
    {
      "cell_type": "code",
      "execution_count": 1,
      "metadata": {
        "colab": {
          "base_uri": "https://localhost:8080/"
        },
        "id": "CwdHqqhJpuu3",
        "outputId": "df584a71-5484-46af-a0ec-f7a48c1e8f06"
      },
      "outputs": [
        {
          "output_type": "stream",
          "name": "stdout",
          "text": [
            "1\n",
            "2\n",
            "3\n",
            "4\n",
            "5\n",
            "6\n",
            "7\n",
            "8\n",
            "9\n",
            "10\n",
            "\n",
            "2\n",
            "4\n",
            "6\n",
            "8\n",
            "10\n",
            "12\n",
            "14\n",
            "16\n",
            "18\n",
            "20\n",
            "\n",
            "3\n",
            "6\n",
            "9\n",
            "12\n",
            "15\n",
            "18\n",
            "21\n",
            "24\n",
            "27\n",
            "30\n",
            "\n",
            "4\n",
            "8\n",
            "12\n",
            "16\n",
            "20\n",
            "24\n",
            "28\n",
            "32\n",
            "36\n",
            "40\n",
            "\n",
            "5\n",
            "10\n",
            "15\n",
            "20\n",
            "25\n",
            "30\n",
            "35\n",
            "40\n",
            "45\n",
            "50\n",
            "\n",
            "6\n",
            "12\n",
            "18\n",
            "24\n",
            "30\n",
            "36\n",
            "42\n",
            "48\n",
            "54\n",
            "60\n",
            "\n",
            "7\n",
            "14\n",
            "21\n",
            "28\n",
            "35\n",
            "42\n",
            "49\n",
            "56\n",
            "63\n",
            "70\n",
            "\n",
            "8\n",
            "16\n",
            "24\n",
            "32\n",
            "40\n",
            "48\n",
            "56\n",
            "64\n",
            "72\n",
            "80\n",
            "\n",
            "9\n",
            "18\n",
            "27\n",
            "36\n",
            "45\n",
            "54\n",
            "63\n",
            "72\n",
            "81\n",
            "90\n",
            "\n"
          ]
        }
      ],
      "source": [
        "'''ans 2 -  its have special reserved word that unique meaning used for unique task its  and\n",
        "            integrated to pyhthon language structure ,can not be use as variable name & function name etc.\n",
        "            example - true false if else & while '''\n",
        "for i in range (1,10):\n",
        "    for j in range(1,11):\n",
        "        multiply = i*j\n",
        "        print(multiply)\n",
        "    print()\n",
        "# here for in & range are predefind keywords;\n"
      ]
    },
    {
      "cell_type": "markdown",
      "metadata": {
        "id": "lmFqsgHspuu5"
      },
      "source": [
        "# Ques 3 - Compare and contrast mutable and immutable object in pyhthon with eaample."
      ]
    },
    {
      "cell_type": "code",
      "execution_count": null,
      "metadata": {
        "id": "CrN5dlj_puu6",
        "outputId": "a61fca9c-281e-407e-e19c-6871d057eb37"
      },
      "outputs": [
        {
          "name": "stdout",
          "output_type": "stream",
          "text": [
            "[1, 2, 3, 5, 4]\n"
          ]
        },
        {
          "ename": "AttributeError",
          "evalue": "'tuple' object has no attribute 'append'",
          "output_type": "error",
          "traceback": [
            "\u001b[1;31m---------------------------------------------------------------------------\u001b[0m",
            "\u001b[1;31mAttributeError\u001b[0m                            Traceback (most recent call last)",
            "Cell \u001b[1;32mIn[1], line 12\u001b[0m\n\u001b[0;32m      8\u001b[0m \u001b[38;5;124;03m'''     immutable - Mutable object are thise which can not be modified after once created . \u001b[39;00m\n\u001b[0;32m      9\u001b[0m \u001b[38;5;124;03m                   we use this if do not need any modification in future.like tuple, integers '''\u001b[39;00m\n\u001b[0;32m     11\u001b[0m ex_1 \u001b[38;5;241m=\u001b[39m(\u001b[38;5;124m\"\u001b[39m\u001b[38;5;124mapple\u001b[39m\u001b[38;5;124m\"\u001b[39m,\u001b[38;5;124m\"\u001b[39m\u001b[38;5;124mball\u001b[39m\u001b[38;5;124m\"\u001b[39m)\n\u001b[1;32m---> 12\u001b[0m \u001b[43mex_1\u001b[49m\u001b[38;5;241;43m.\u001b[39;49m\u001b[43mappend\u001b[49m(\u001b[38;5;124m\"\u001b[39m\u001b[38;5;124mcat\u001b[39m\u001b[38;5;124m\"\u001b[39m)\n\u001b[0;32m     13\u001b[0m \u001b[38;5;28mprint\u001b[39m(ex_1) \u001b[38;5;66;03m#show error  if we try to modify here.\u001b[39;00m\n",
            "\u001b[1;31mAttributeError\u001b[0m: 'tuple' object has no attribute 'append'"
          ]
        }
      ],
      "source": [
        "'''ans 3-\n",
        "        Mutable - Mutable object are thise which can be modified after creating.\n",
        "                  we use this if need modification in future. like dictionaries & list'''\n",
        "lis_1 = [1,2,3,5]\n",
        "lis_1.append(4)\n",
        "print(lis_1)\n",
        "\n",
        "'''     immutable - Mutable object are thise which can not be modified after once created .\n",
        "                   we use this if do not need any modification in future.like tuple, integers '''\n",
        "\n",
        "ex_1 =(\"apple\",\"ball\")\n",
        "ex_1.append(\"cat\")\n",
        "print(ex_1) #show error  if we try to modify here.\n"
      ]
    },
    {
      "cell_type": "markdown",
      "metadata": {
        "id": "nKnaqd9_puu7"
      },
      "source": [
        "# ques 4 - Diccuss the diffrent type of operators in python and provide eaample how they are used.\n"
      ]
    },
    {
      "cell_type": "code",
      "execution_count": 2,
      "metadata": {
        "colab": {
          "base_uri": "https://localhost:8080/"
        },
        "id": "AKWlwskbpuu8",
        "outputId": "1b1a285d-5760-4761-fc52-2dc4ae8b7f53"
      },
      "outputs": [
        {
          "output_type": "stream",
          "name": "stdout",
          "text": [
            "7\n",
            "3\n",
            "10\n",
            "2.5\n",
            "1\n"
          ]
        }
      ],
      "source": [
        "#1 Arithmetic operators - This one is used for doing mathmetical operation like plus minus & multiply etc\n",
        "a= 5\n",
        "b =2\n",
        "print(a+b)#add :7\n",
        "print(a-b)# sustraction :3\n",
        "print(a*b)#multiply:10\n",
        "print(a/b)#division :2.5\n",
        "print(a%b)#modulus:1"
      ]
    },
    {
      "cell_type": "code",
      "execution_count": 3,
      "metadata": {
        "colab": {
          "base_uri": "https://localhost:8080/"
        },
        "id": "IA3dmuPwpuu8",
        "outputId": "bb3b7ae0-70cc-4c27-a4f7-a307793cfbc2"
      },
      "outputs": [
        {
          "output_type": "stream",
          "name": "stdout",
          "text": [
            "False\n",
            "True\n",
            "False\n"
          ]
        }
      ],
      "source": [
        "#2 logical operator- its used to to combine condition and do logical operations on the variable  and value.\n",
        "\n",
        "\n",
        "x = True\n",
        "y = False\n",
        "print(x and y)  \t #Logic AND: False\n",
        "print(x or y)   \t #Logic OR: True\n",
        "print(not x)    \t #Logic NOT: False\n"
      ]
    },
    {
      "cell_type": "code",
      "execution_count": 4,
      "metadata": {
        "colab": {
          "base_uri": "https://localhost:8080/"
        },
        "id": "NngT6MTYpuu9",
        "outputId": "1768a9cc-484f-4d27-9b16-1ac0dbcd6cce"
      },
      "outputs": [
        {
          "output_type": "stream",
          "name": "stdout",
          "text": [
            "True\n",
            "False\n",
            "False\n",
            "True\n",
            "False\n",
            "True\n"
          ]
        }
      ],
      "source": [
        "#3 comarison operators - it used to compare variable having some value.\n",
        "a= 40\n",
        "b=18\n",
        "print(a>b) # greater than :a\n",
        "print(a<b) #Less than\n",
        "print(a==b) #equal to\n",
        "print(a>=b) #grater than or equal\n",
        "print(a<=b) #less than or equal\n",
        "print(a!=b) #=not equal"
      ]
    },
    {
      "cell_type": "code",
      "execution_count": 5,
      "metadata": {
        "colab": {
          "base_uri": "https://localhost:8080/"
        },
        "id": "izK4JSbupuu-",
        "outputId": "5019497e-6c72-4f74-e5ef-b11a825bf901"
      },
      "outputs": [
        {
          "output_type": "stream",
          "name": "stdout",
          "text": [
            "13\n",
            "10\n",
            "30\n",
            "10.0\n",
            "1.0\n",
            "0.0\n",
            "0.0\n"
          ]
        }
      ],
      "source": [
        "#4 Assignment operators - its used for values to varriables .\n",
        "\n",
        "u = 10\n",
        "u += 3   # Equal to u = u + 3\n",
        "print(u) # 13\n",
        "u -= 3   # Equal  to u = u - 3\n",
        "print(u) # 10\n",
        "u *= 3   # Equal to u = u * 3\n",
        "print(u) # 30\n",
        "u /= 3   # Equal to u = u / 3\n",
        "print(u) # 10.0\n",
        "u %= 3   # Equal to u = u % 3\n",
        "print(u) # 1.0\n",
        "u //= 3  # Equal to u = u // 3\n",
        "print(u) # 0.0\n",
        "u **= 3  # Equal to u = u ** 3\n",
        "print(u)\n"
      ]
    },
    {
      "cell_type": "code",
      "execution_count": 6,
      "metadata": {
        "colab": {
          "base_uri": "https://localhost:8080/"
        },
        "id": "53MPd4mZpuu-",
        "outputId": "57a20e9d-db89-49b8-b379-8f0d6a37ad05"
      },
      "outputs": [
        {
          "output_type": "stream",
          "name": "stdout",
          "text": [
            "0\n",
            "14\n",
            "14\n",
            "-11\n",
            "20\n",
            "5\n"
          ]
        }
      ],
      "source": [
        "#5 Bitwise operation - Its is used for bit by  bit operation.\n",
        "c = 10          # Binary: 1010\n",
        "d = 4           # Binary: 0100\n",
        "print(c & d)    #Bitwise AND: 0 (Binary: 0000)\n",
        "print(c | d)    # Bitwise OR: 14 (Binary: 1110)\n",
        "print(c ^ d)    # Bitwise XOR: 14 (Binary: 1110)\n",
        "print(~c)       #Bitwise NOT: -11 (Binary: -1011)\n",
        "print(c << 1)   #Left shift: 20 (Binary: 10100)\n",
        "print(c >> 1)   #Right shift: 5 (Binary: 0101)\n",
        "\n"
      ]
    },
    {
      "cell_type": "code",
      "execution_count": 7,
      "metadata": {
        "colab": {
          "base_uri": "https://localhost:8080/"
        },
        "id": "Gv5nOK6Ypuu_",
        "outputId": "d751a85a-e5ee-4ecd-93bf-c478a3382611"
      },
      "outputs": [
        {
          "output_type": "stream",
          "name": "stdout",
          "text": [
            "False\n",
            "True\n"
          ]
        }
      ],
      "source": [
        "#6 Membership operator - it is used to check a value or varriable is member of a sequence.\n",
        "a=[2,4,6,9]\n",
        "print(3 in a) #false\n",
        "print(2 in a) #true\n",
        "\n"
      ]
    },
    {
      "cell_type": "code",
      "execution_count": 8,
      "metadata": {
        "colab": {
          "base_uri": "https://localhost:8080/"
        },
        "id": "wIp_dw8dpuu_",
        "outputId": "6c6d13dd-fca2-4d59-8d42-a711400bec31"
      },
      "outputs": [
        {
          "output_type": "stream",
          "name": "stdout",
          "text": [
            "False\n",
            "True\n",
            "False\n",
            "True\n"
          ]
        }
      ],
      "source": [
        "#7 identity operator - Help to check whether two variable reference the same object in memory.as is and is not\n",
        "x=\"aaple\"\n",
        "y=\"apple\"\n",
        "z=x\n",
        "print(x is y) #:false\n",
        "print(x is z) #:true\n",
        "print(x==y)#:true\n",
        "print(x is not y)#true\n",
        "\n",
        "\n",
        "\n"
      ]
    },
    {
      "cell_type": "markdown",
      "metadata": {
        "id": "Ivm_giFPpuvA"
      },
      "source": [
        "# Ques 5- explain the concept of type casting with example >"
      ]
    },
    {
      "cell_type": "code",
      "execution_count": 9,
      "metadata": {
        "colab": {
          "base_uri": "https://localhost:8080/"
        },
        "id": "L_juwna7puvA",
        "outputId": "cd553c62-dfb7-43f1-b431-9487f1722013"
      },
      "outputs": [
        {
          "output_type": "stream",
          "name": "stdout",
          "text": [
            "4.2\n",
            "<class 'float'>\n",
            "5\n",
            "<class 'int'>\n"
          ]
        }
      ],
      "source": [
        "'''ans 5 - Type casting - type casting is the process where we change the datatype of  variable type.\n",
        "thse are basicly two type .\n",
        "1. implicit type casting - automaticly change the data type python itself.'''\n",
        "num1= 2 #int\n",
        "num2=2.2 #float\n",
        "sum = num1+num2\n",
        "print(sum) #: 4.4\n",
        "print(type(sum)) #:<class 'float'> auto converted by python\n",
        "\n",
        "#2. Explicit type casting  - it's a manual process .\n",
        "str1=\"5\"\n",
        "int1 = int(str1)\n",
        "print(int1)#5\n",
        "print(type(int1))#:<class 'int'>\n",
        "\n",
        "\n",
        "\n",
        "\n"
      ]
    },
    {
      "cell_type": "markdown",
      "metadata": {
        "id": "WAal6moBpuvB"
      },
      "source": [
        "# ques 6 -  how do conditional statement work in python ? Describe it with example?"
      ]
    },
    {
      "cell_type": "code",
      "execution_count": 10,
      "metadata": {
        "colab": {
          "base_uri": "https://localhost:8080/",
          "height": 70
        },
        "id": "6WIiPHl3puvB",
        "outputId": "64552d99-d062-4786-c098-ab8fc6f43038"
      },
      "outputs": [
        {
          "output_type": "stream",
          "name": "stdout",
          "text": [
            "child \n"
          ]
        },
        {
          "output_type": "execute_result",
          "data": {
            "text/plain": [
              "'check if check if age is less than 12 if yes it will print \"child\" other wise it will go to the next.\\nelse elif condition and agin it wo;; check weather age  is under 20 . if yes it wil \\nprint \"teen\" if not then it will move to th next else wil print adult if both condition nit satisfiled .'"
            ],
            "application/vnd.google.colaboratory.intrinsic+json": {
              "type": "string"
            }
          },
          "metadata": {},
          "execution_count": 10
        }
      ],
      "source": [
        "#Ans 6 - Conditional Statement Result decide the outcome of the control flow . It give the choice to diffrent block of code on cirtain Condition. for example if elif and else.\n",
        "#example -\n",
        "age = 8\n",
        "if age < 12 :\n",
        "    print(\"child \")\n",
        "elif age<20:\n",
        "    print(\"teen\")\n",
        "else:\n",
        "    print (\"adult\")\n",
        "\n",
        "'''check if check if age is less than 12 if yes it will print \"child\" other wise it will go to the next.\n",
        "else elif condition and agin it wo;; check weather age  is under 20 . if yes it wil\n",
        "print \"teen\" if not then it will move to th next else wil print adult if both condition nit satisfiled .'''\n",
        "\n",
        "\n",
        "\n",
        "\n"
      ]
    },
    {
      "cell_type": "markdown",
      "metadata": {
        "id": "oF14k8NypuvB"
      },
      "source": [
        "#Ques 7 describe the diffrent type of loop in with there use case and example in python ?\n"
      ]
    },
    {
      "cell_type": "code",
      "execution_count": 11,
      "metadata": {
        "colab": {
          "base_uri": "https://localhost:8080/"
        },
        "id": "FXxOLxjipuvC",
        "outputId": "4eae5233-c360-48ee-9732-53098b73e745"
      },
      "outputs": [
        {
          "output_type": "stream",
          "name": "stdout",
          "text": [
            "3\n",
            "4\n",
            "5\n",
            "6\n",
            "this will be excecuted without any break\n",
            "dog\n",
            "cat\n",
            "cow\n"
          ]
        }
      ],
      "source": [
        "'''ans7 - loop execute the code back to back as long as certain condition meets or for the limtecno times. these are two type for loops and while Loop.\n",
        "\n",
        "while loop - it execute the code back to back as long as certain condition is true.'''\n",
        "\n",
        "\n",
        "\n",
        "p =6\n",
        "i=1\n",
        "while i< p:\n",
        "    i=i+1\n",
        "    if i==2:\n",
        "        continue\n",
        "    print(i)\n",
        "else:\n",
        "    print(\"this will be excecuted without any break\")\n",
        "\n",
        "\n",
        "'''for loop - for loop is used to iterate over sequences such as lists, strings, tuples, etc.'''\n",
        "animal = [\"dog\",\"cat\",\"cow\"]\n",
        "for i in animal:\n",
        "    print (i)"
      ]
    }
  ],
  "metadata": {
    "kernelspec": {
      "display_name": "Python 3",
      "language": "python",
      "name": "python3"
    },
    "language_info": {
      "codemirror_mode": {
        "name": "ipython",
        "version": 3
      },
      "file_extension": ".py",
      "mimetype": "text/x-python",
      "name": "python",
      "nbconvert_exporter": "python",
      "pygments_lexer": "ipython3",
      "version": "3.11.9"
    },
    "colab": {
      "provenance": [],
      "include_colab_link": true
    }
  },
  "nbformat": 4,
  "nbformat_minor": 0
}