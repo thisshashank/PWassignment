{
  "cells": [
    {
      "cell_type": "markdown",
      "metadata": {
        "id": "view-in-github",
        "colab_type": "text"
      },
      "source": [
        "<a href=\"https://colab.research.google.com/github/thisshashank/PWassignment/blob/main/Assignment_module_6.ipynb\" target=\"_parent\"><img src=\"https://colab.research.google.com/assets/colab-badge.svg\" alt=\"Open In Colab\"/></a>"
      ]
    },
    {
      "cell_type": "markdown",
      "metadata": {
        "id": "DEhhrU3nX5hN"
      },
      "source": [
        "# .................Theory question..................................................................................."
      ]
    },
    {
      "cell_type": "markdown",
      "metadata": {
        "id": "zihO53ZpX5hP"
      },
      "source": [
        "# ques1 - What is the difference between a function and a method in Python?"
      ]
    },
    {
      "cell_type": "markdown",
      "metadata": {
        "id": "N9TO33ASX5hP"
      },
      "source": [
        "# ANS 1-\n",
        "# FUNCTION -\n",
        "1.this is the block of code that defined using def , and 2.perform a specific operation .\n",
        "3.defind out side the classes.\n",
        "4.they are independent"
      ]
    },
    {
      "cell_type": "code",
      "execution_count": null,
      "metadata": {
        "id": "6ZlQcISfX5hP",
        "outputId": "f63ea700-41da-412a-996e-6e414c1ad548"
      },
      "outputs": [
        {
          "name": "stdout",
          "output_type": "stream",
          "text": [
            "21\n"
          ]
        }
      ],
      "source": [
        "#function example\n",
        "def sum1(a,b,c):\n",
        "    return a+b+c\n",
        "print(sum1(7,8,6))"
      ]
    },
    {
      "cell_type": "markdown",
      "metadata": {
        "id": "WduO09vDX5hQ"
      },
      "source": [
        "# Methods -\n",
        "1. this is defind inside the classes.\n",
        "2. this can be called using dot notation.\n",
        "3. it can be  access and modify the objects state using self.\n",
        "4. its not independent, it is associated with objects and operate on their data.\n"
      ]
    },
    {
      "cell_type": "code",
      "execution_count": null,
      "metadata": {
        "id": "lulfk1JpX5hQ",
        "outputId": "93aa14b6-35b7-4c4e-f828-5cb637ddec59"
      },
      "outputs": [
        {
          "name": "stdout",
          "output_type": "stream",
          "text": [
            "5\n"
          ]
        }
      ],
      "source": [
        "# Methods Example\n",
        "class Calculator:\n",
        "    def add(self, e, f):\n",
        "        return e + f\n",
        "\n",
        "calc = Calculator()\n",
        "result = calc.add(2, 3)\n",
        "print(result)"
      ]
    },
    {
      "cell_type": "markdown",
      "metadata": {
        "id": "MS85CFcrX5hR"
      },
      "source": [
        "-------------------------------------------------------------------------------"
      ]
    },
    {
      "cell_type": "markdown",
      "metadata": {
        "id": "Z9xSMYklX5hR"
      },
      "source": []
    },
    {
      "cell_type": "markdown",
      "metadata": {
        "id": "sUOMWG7UX5hR"
      },
      "source": [
        "# Ques 2- Explain the concept of function arguments and parameters in python?"
      ]
    },
    {
      "cell_type": "markdown",
      "metadata": {
        "id": "Bt9knMCIX5hR"
      },
      "source": [
        "# ANS -\n",
        "# Parameters-\n",
        "Parameter are the variables . they act as a  placeholder for the values thet will be passed to the function ."
      ]
    },
    {
      "cell_type": "markdown",
      "metadata": {
        "id": "rOZEYzDqX5hR"
      },
      "source": [
        "# Arguments\n",
        "Arguments are the actual value that are passed to the function if the function is called.\n",
        "# Type-\n",
        "a. Positional: Passed in order.\n",
        "b. Keyword: Passed with parameter names (add(a=3, b=5)).\n",
        "c. Default: Parameters with default values.  \n",
        "D. Variable-length: Accepts any number of arguments (*args, **kwargs)."
      ]
    },
    {
      "cell_type": "code",
      "execution_count": null,
      "metadata": {
        "id": "JkzITe4IX5hS",
        "outputId": "e2ef41f2-7bb1-4397-a763-95c1bc3bb417"
      },
      "outputs": [
        {
          "name": "stdout",
          "output_type": "stream",
          "text": [
            "7\n"
          ]
        }
      ],
      "source": [
        "def add(a,b):\n",
        "    return a+b\n",
        "print(add(3,4))\n",
        "\n",
        "#Here \"a\" and \"b \" are parameter of function .\n",
        "\n",
        "#Here \"a\" and \"b \" are  Arguments of function.\n"
      ]
    },
    {
      "cell_type": "markdown",
      "metadata": {
        "id": "TfdplZnaX5hS"
      },
      "source": [
        "----------------------------------------------------------------"
      ]
    },
    {
      "cell_type": "markdown",
      "metadata": {
        "id": "9JKqE06VX5hS"
      },
      "source": []
    },
    {
      "cell_type": "markdown",
      "metadata": {
        "id": "5nbydMoGX5hS"
      },
      "source": [
        "# Ques 3  What are the different ways to define and call a function in Python?\n"
      ]
    },
    {
      "cell_type": "code",
      "execution_count": null,
      "metadata": {
        "id": "AjJnylLwX5hS"
      },
      "outputs": [],
      "source": [
        "# ANS\n",
        "#1. Standard Function Call - function called by its name and the required arguments.\n",
        "\n",
        "def add(e, f):\n",
        "    return e + f\n",
        "\n",
        "result = add(9, 3)  # Standard function call\n"
      ]
    },
    {
      "cell_type": "code",
      "execution_count": null,
      "metadata": {
        "id": "bUzm84Q2X5hS",
        "outputId": "1de9886e-5c8a-4e8c-85b4-0fdbe62b19e6"
      },
      "outputs": [
        {
          "name": "stdout",
          "output_type": "stream",
          "text": [
            "Hello, shashank patel!\n"
          ]
        }
      ],
      "source": [
        "# 2. Using Positional Arguments -\n",
        "# Arguments are passed in the same order as the function's parameters.\n",
        "def greet(a, b):\n",
        "    return \"Hello, \" + a + \" \" + b + \"!\"\n",
        "\n",
        "print(greet(\"shashank\", \"patel\"))  # Output:Hello, Shashank Patel\n"
      ]
    },
    {
      "cell_type": "code",
      "execution_count": null,
      "metadata": {
        "id": "DxboAUEFX5hS"
      },
      "outputs": [],
      "source": [
        "#3. Using Keyword Arguments -\n",
        "# Arguments are passed using the parameter names, allowing flexibility in order.\n",
        "print(greet(a=\"shshank\", b=\"Patel\"))  # Output: Hello, Shashank Patel!\n"
      ]
    },
    {
      "cell_type": "code",
      "execution_count": null,
      "metadata": {
        "id": "dSkMrjQQX5hS"
      },
      "outputs": [],
      "source": [
        "#4 Using Variable-length Arguments - Handle an arbitrary number of arguments using *args .\n",
        "def print_numbers(*args):\n",
        "    for number in args:\n",
        "        print(number)\n",
        "\n",
        "print_numbers(3, 5, 8)"
      ]
    },
    {
      "cell_type": "code",
      "execution_count": null,
      "metadata": {
        "id": "0WZspkjCX5hT"
      },
      "outputs": [],
      "source": [
        "#5 Default Arguments - it have default values.\n",
        "def greet(name=\"Guest\"):\n",
        "    return \"Hello, \" + name + \"!\"\n",
        "print(greet())         # Output: Hello, Guest!\n",
        "print(greet(\"Shashank\"))  # Output: Hello, Shashank!"
      ]
    },
    {
      "cell_type": "code",
      "execution_count": null,
      "metadata": {
        "id": "xMXMCZUjX5hT"
      },
      "outputs": [],
      "source": [
        "#6 call via via a Reference - Functions can be assigned to variables and called through those variables.\n",
        "def add(a, b):\n",
        "    return a + b\n",
        "\n",
        "addition = add\n",
        "print(addition(9, 12))  # Output: 18\n"
      ]
    },
    {
      "cell_type": "code",
      "execution_count": null,
      "metadata": {
        "id": "-LoJ3sXRX5hT"
      },
      "outputs": [],
      "source": [
        "#7 Call Methods from a Class - Mathod function called using dot notation.\n",
        "class Greeter:\n",
        "    def greet(self, name):\n",
        "        return \"Hello, \" + name + \"!\"\n",
        "\n",
        "greeter = Greeter()\n",
        "print(greeter.greet(\"Shashank \"))  # Output: Hello, Alice!\n"
      ]
    },
    {
      "cell_type": "code",
      "execution_count": null,
      "metadata": {
        "id": "f9lT4FB3X5hT"
      },
      "outputs": [],
      "source": [
        "#8 Lambda Functions-\n",
        "#Anonymous functions can be called directly or assigned to a variable\n",
        "\n",
        "le = lambda y: len(y)\n",
        "le(\"python\")"
      ]
    },
    {
      "cell_type": "markdown",
      "metadata": {
        "id": "qlCykXWfX5hT"
      },
      "source": [
        "-------------------------------------------------------------"
      ]
    },
    {
      "cell_type": "markdown",
      "metadata": {
        "id": "YrFu7G0dX5hT"
      },
      "source": []
    },
    {
      "cell_type": "markdown",
      "metadata": {
        "id": "lqD-_0L-X5hT"
      },
      "source": [
        "# ques 4 - What is the purpose of the return statement in a Python function?"
      ]
    },
    {
      "cell_type": "markdown",
      "metadata": {
        "id": "wOPLlHteX5hT"
      },
      "source": [
        "ans.4\n",
        "1. if it have any function to call then it is used to return the vlaue to the caller end the execution of the function call.\n",
        "2. special value None is returned If the return statement is without any expression.\n",
        "3. this statement can not be used outside the function."
      ]
    },
    {
      "cell_type": "code",
      "execution_count": null,
      "metadata": {
        "id": "siebcFSCX5hT"
      },
      "outputs": [],
      "source": [
        "def add(a, b):\n",
        "    return a + b\n",
        "\n",
        "result = add(3, 4)\n",
        "print(result)  # Output: 7\n"
      ]
    },
    {
      "cell_type": "markdown",
      "metadata": {
        "id": "qNNVUAe5X5hT"
      },
      "source": [
        "------------------------------------------------------------------------------------"
      ]
    },
    {
      "cell_type": "markdown",
      "metadata": {
        "id": "QeWblJEaX5hU"
      },
      "source": [
        "# Ques5- What are iterators in Python and how do they differ from iterables?"
      ]
    },
    {
      "cell_type": "markdown",
      "metadata": {
        "id": "uK6aU-qFX5hU"
      },
      "source": [
        "Iterables - its an python object that can loop over , like list tupple , string, and more.\n",
        "2- Can be looped over.\n",
        "3. Iterable: Has __iter__()\n",
        "4. we get an iterator from it.\n"
      ]
    },
    {
      "cell_type": "code",
      "execution_count": null,
      "metadata": {
        "id": "9_KzTMbsX5hU",
        "outputId": "79972ac8-f167-46de-d1a6-797abba984bd"
      },
      "outputs": [
        {
          "name": "stdout",
          "output_type": "stream",
          "text": [
            "n\n",
            "m\n",
            "b\n"
          ]
        }
      ],
      "source": [
        "l = [\"n\",\"m\",\"b\"]\n",
        "for item in l :\n",
        "    print(item)"
      ]
    },
    {
      "cell_type": "markdown",
      "metadata": {
        "id": "SLPcIsrqX5hU"
      },
      "source": [
        "Iterators -\n",
        "1. An iterator is an object that lets you fetch items one by one from an iterable.\n",
        "2. Gets items one by one from an iterable  iterator itself.\n",
        "3. Has both __iter__() and __next__().  __iter__() used to return  __next__() used to next item."
      ]
    },
    {
      "cell_type": "code",
      "execution_count": null,
      "metadata": {
        "id": "Flny1KFJX5hU",
        "outputId": "cfc52d1c-f044-4cc8-d956-d2b18adc1302"
      },
      "outputs": [
        {
          "name": "stdout",
          "output_type": "stream",
          "text": [
            "1\n",
            "2\n",
            "3\n"
          ]
        }
      ],
      "source": [
        "list = [1, 2, 3]\n",
        "iterator = iter(list)\n",
        "\n",
        "print(next(iterator))  # Output: 1\n",
        "print(next(iterator))  # Output: 2\n",
        "print(next(iterator))  # Output: 3\n"
      ]
    },
    {
      "cell_type": "markdown",
      "metadata": {
        "id": "Q0BgxCUqX5hU"
      },
      "source": [
        "-----------------------------------------------------------------------------------------"
      ]
    },
    {
      "cell_type": "markdown",
      "metadata": {
        "id": "xEQzfeHUX5hU"
      },
      "source": [
        "# ques6 - explain the concept of generators in Python and how they are defined."
      ]
    },
    {
      "cell_type": "markdown",
      "metadata": {
        "id": "YoBb0yCQX5hU"
      },
      "source": [
        "ANS6-\n",
        "# Generators -\n",
        "    this is the type of iterator that allow you to iterate over data without  storing the entrie dataset in memory.\n",
        "    this used to handdle the large dataset or strem of the data which take memory in system.\n",
        "    yield function used instead of return.\n",
        "\n",
        "\n",
        "\n"
      ]
    },
    {
      "cell_type": "code",
      "execution_count": null,
      "metadata": {
        "id": "kIq0D4tQX5hU",
        "outputId": "552013ea-a948-45da-ea51-2df3bfb7da43"
      },
      "outputs": [
        {
          "name": "stdout",
          "output_type": "stream",
          "text": [
            "<generator object sq_no at 0x000001E453428040>\n"
          ]
        }
      ],
      "source": [
        "def sq_no(n):\n",
        "    for i in range (n):\n",
        "\n",
        "        yield i*2\n",
        "print(sq_no(20))"
      ]
    },
    {
      "cell_type": "code",
      "execution_count": null,
      "metadata": {
        "id": "BfPX7g_1X5hV",
        "outputId": "deb10729-d7f8-4d4d-d2f1-d1c9862dd2f3"
      },
      "outputs": [
        {
          "data": {
            "text/plain": [
              "0"
            ]
          },
          "execution_count": 37,
          "metadata": {},
          "output_type": "execute_result"
        }
      ],
      "source": [
        "gen =sq_no(20)\n",
        "next(gen)"
      ]
    },
    {
      "cell_type": "code",
      "execution_count": null,
      "metadata": {
        "id": "hOLHFPHcX5hV",
        "outputId": "7ef274fb-489e-44b9-f48c-e1b05878696a"
      },
      "outputs": [
        {
          "data": {
            "text/plain": [
              "2"
            ]
          },
          "execution_count": 38,
          "metadata": {},
          "output_type": "execute_result"
        }
      ],
      "source": [
        "next(gen)"
      ]
    },
    {
      "cell_type": "markdown",
      "metadata": {
        "id": "kAjjxlJQX5hV"
      },
      "source": [
        "-----------------------------------------------------------------------------------------------------------------"
      ]
    },
    {
      "cell_type": "markdown",
      "metadata": {
        "id": "mJamPFnrX5hV"
      },
      "source": []
    },
    {
      "cell_type": "markdown",
      "metadata": {
        "id": "UTsK1eBMX5hV"
      },
      "source": [
        "# ques7. What are the advantages of using generators over regular function.\n"
      ]
    },
    {
      "cell_type": "markdown",
      "metadata": {
        "id": "CKEauntBX5hV"
      },
      "source": [
        "# Ans 7 -\n",
        "1. Efficient- generators are more efficient than lopp than large data set .\n",
        "2. Time-Saving - generators in pythone tale less time as they do not need wiat to run the entire sequance.\n",
        "3. Memory Management- they use less memory , as they produce value one by one.\n",
        "4. Infinite Sequences- they can produce infinite sequance that can be usefull in stem processing .\n",
        "5. Flexibility - as we know that it can generate a sequence of values over time . so its provide the fexibilty .\n",
        "\n",
        "\n",
        "\n"
      ]
    },
    {
      "cell_type": "markdown",
      "metadata": {
        "id": "V8wEEvI0X5hW"
      },
      "source": [
        "----------------------------------------------------------------------------------------------------------------------------------------------------------------------------------"
      ]
    },
    {
      "cell_type": "markdown",
      "metadata": {
        "id": "_dAyvGkOX5hW"
      },
      "source": []
    },
    {
      "cell_type": "markdown",
      "metadata": {
        "id": "bEkSDeJbX5hW"
      },
      "source": [
        "# ques 8- What is a lambda function in Python and when is it typically use"
      ]
    },
    {
      "cell_type": "markdown",
      "metadata": {
        "id": "afvfS_ukX5hW"
      },
      "source": [
        "Ans 8-\n",
        "# lambda function -\n",
        "It is a anonymous function , inline fuction defind using the lampda keyword.\n",
        "this one have multiple input parameter but only one expression .\n",
        "# uses-\n",
        "1. lambda function used with  map(), fillter() and shorted() whichg take other function as aruments.\n",
        "2. we use this as quick simple function for the short task .\n",
        "3. this is used very when we sorting the object. we can use it as custom sort key."
      ]
    },
    {
      "cell_type": "code",
      "execution_count": null,
      "metadata": {
        "id": "h0Fpq7pKX5hW"
      },
      "outputs": [],
      "source": [
        "\n",
        "add_ten = lambda x: x + 20\n",
        "print(add_ten(5))  # Output: 25\n"
      ]
    },
    {
      "cell_type": "code",
      "execution_count": null,
      "metadata": {
        "id": "Yz_L3YB4X5hW",
        "outputId": "a281f50b-d6b0-43b6-ba8f-b1bc4e2ffc7b"
      },
      "outputs": [
        {
          "name": "stdout",
          "output_type": "stream",
          "text": [
            "['apple', 'mango', 'banana', 'cherry']\n"
          ]
        }
      ],
      "source": [
        "words = ['apple', 'banana', 'cherry', 'mango']\n",
        "\n",
        "# Sort words by their length\n",
        "sorted_length = sorted(words, key=lambda x: len(x))\n",
        "print(sorted_length)  # ['apple', 'mango', 'banana', 'cherry']\n"
      ]
    },
    {
      "cell_type": "markdown",
      "metadata": {
        "id": "epKntO6CX5hW"
      },
      "source": [
        "--------------------------------------------------------------------------------------------------------"
      ]
    },
    {
      "cell_type": "markdown",
      "metadata": {
        "id": "UXgAjzN4X5hW"
      },
      "source": []
    },
    {
      "cell_type": "markdown",
      "metadata": {
        "id": "qbl5EpCBX5hW"
      },
      "source": [
        "# ques9- Explain the purpose and usage of the map() function in Python.\n"
      ]
    },
    {
      "cell_type": "markdown",
      "metadata": {
        "id": "IbLEolHJX5hW"
      },
      "source": [
        "ANS 9-\n",
        "map() function applies a specified function to each item of an iterable like list tupple or string and give us a new iterable containing the results.\n",
        "its syntex contain the two thing map(function, iterable)"
      ]
    },
    {
      "cell_type": "code",
      "execution_count": null,
      "metadata": {
        "id": "EXqa5bMwX5hW",
        "outputId": "a05a8627-c8d9-4015-a04a-10445c9f551a"
      },
      "outputs": [
        {
          "name": "stdout",
          "output_type": "stream",
          "text": [
            "[8, 10, 13, 14, 17]\n"
          ]
        }
      ],
      "source": [
        "# Usage Examples -\n",
        "#1. using the map with the list -\n",
        "\n",
        "def add5(num):\n",
        "    return num+5\n",
        "list69 =[3,5,8,9,12]\n",
        "newlist1 = map(add5, list69)\n",
        "print(list(newlist1))\n",
        "\n",
        "\n",
        "\n"
      ]
    },
    {
      "cell_type": "code",
      "execution_count": null,
      "metadata": {
        "id": "idL3kq3nX5hX",
        "outputId": "ea8ad15a-e26b-4dad-84d4-df63098819a9"
      },
      "outputs": [
        {
          "name": "stdout",
          "output_type": "stream",
          "text": [
            "[1, 4, 9, 16, 25]\n"
          ]
        }
      ],
      "source": [
        "#2. Using Lambda Functions\n",
        "\n",
        "num = [1, 2, 3, 4, 5]\n",
        "squared_numbers = map(lambda x: x * x, num)\n",
        "print(list(squared_numbers))  # Output: [1, 4, 9, 16, 25]\n"
      ]
    },
    {
      "cell_type": "code",
      "execution_count": null,
      "metadata": {
        "id": "2Ko-kKYyX5hX",
        "outputId": "a61c815b-a992-496d-a68e-e15ccf373ff6"
      },
      "outputs": [
        {
          "name": "stdout",
          "output_type": "stream",
          "text": [
            "[5, 9, 11, 14]\n"
          ]
        }
      ],
      "source": [
        "#3 Multiple Iterables- we can use multiple Iterables\n",
        "num1 = [2,4,5,6]\n",
        "num2=[3,5,6,8]\n",
        "sumlist = map(lambda x,y:x+y, num1,num2)\n",
        "print(list(sumlist))"
      ]
    },
    {
      "cell_type": "code",
      "execution_count": null,
      "metadata": {
        "id": "vURimLS8X5hX",
        "outputId": "bcf30d6c-0fc1-401d-85d6-5850fd607fb6"
      },
      "outputs": [
        {
          "name": "stdout",
          "output_type": "stream",
          "text": [
            "<map object at 0x00000109987ECEE0>\n",
            "['hello', 'shashank', 'patel']\n"
          ]
        }
      ],
      "source": [
        "#4 Using map() with Tuple\n",
        "def lower(i):\n",
        "    return i.lower()\n",
        "\n",
        "\n",
        "\n",
        "tup =(\"hello\",\"shashank\",\"patel\")\n",
        "new_tup = map (lower, tup)\n",
        "print(new_tup)\n",
        "print(list(new_tup))\n",
        "\n"
      ]
    },
    {
      "cell_type": "markdown",
      "metadata": {
        "id": "qScqvdpwX5hX"
      },
      "source": [
        "-------------------------------------------------------------------------------------------------"
      ]
    },
    {
      "cell_type": "markdown",
      "metadata": {
        "id": "UeG-mJzJX5hX"
      },
      "source": []
    },
    {
      "cell_type": "markdown",
      "metadata": {
        "id": "T-9pe7SjX5hX"
      },
      "source": [
        "# ques10- what is the diffrence between map(), reduce(), and filter() functions in Python?"
      ]
    },
    {
      "cell_type": "markdown",
      "metadata": {
        "id": "GSCXkgi6X5hX"
      },
      "source": [
        "map() -\n",
        "1. convert each item in iterable by applying function to each element.\n",
        "2. return iterators (which can be converted to lists)\n",
        "3. requires a function that takes one or more arguments\n"
      ]
    },
    {
      "cell_type": "code",
      "execution_count": null,
      "metadata": {
        "id": "t7sYNGgrX5hX"
      },
      "outputs": [],
      "source": [
        "numbers = [1, 2, 3, 4, 5]\n",
        "squared_numbers = map(lambda x: x * x, numbers)\n",
        "print(list(squared_numbers))  # Output: [1, 4, 9, 16, 25]\n"
      ]
    },
    {
      "cell_type": "code",
      "execution_count": null,
      "metadata": {
        "id": "yVYH84RXX5hX"
      },
      "outputs": [],
      "source": [
        "# Filter=\n",
        "#1 Filters elements in an iterable  based on a specified condition (a function that returns True or False).\n",
        "#2 return iterators (which can be converted to lists).\n",
        "#3  requires a function that returns a boolean."
      ]
    },
    {
      "cell_type": "code",
      "execution_count": null,
      "metadata": {
        "id": "ypOZtwveX5hX"
      },
      "outputs": [],
      "source": [
        "numbers = [1, 2, 3, 4, 5]\n",
        "even_numbers = filter(lambda x: x % 2 == 0, numbers)\n",
        "print(list(even_numbers))  # Output: [2, 4]\n"
      ]
    },
    {
      "cell_type": "code",
      "execution_count": null,
      "metadata": {
        "id": "D44FuuhUX5hY"
      },
      "outputs": [],
      "source": [
        "# reduce()-\n",
        "#1 Reduces an iterable to a single cumulative value by repeatedly applying a specified function to pairs of elements\n",
        "#2 is used for combining all elements into a single cumulative value.\n",
        "#3 returns a single value.\n",
        "#4 requires a function that takes two arguments."
      ]
    },
    {
      "cell_type": "code",
      "execution_count": null,
      "metadata": {
        "id": "QJEutFEgX5hY"
      },
      "outputs": [],
      "source": [
        "from functools import reduce\n",
        "\n",
        "numbers = [1, 2, 3, 4, 5]\n",
        "sum_of_numbers = reduce(lambda x, y: x + y, numbers)\n",
        "print(sum_of_numbers)  # Output: 15\n"
      ]
    },
    {
      "cell_type": "markdown",
      "metadata": {
        "id": "JvG1-KzFX5hY"
      },
      "source": []
    },
    {
      "cell_type": "markdown",
      "metadata": {
        "id": "dMmpZn6eX5hY"
      },
      "source": [
        "# ...............................Practical Question\n"
      ]
    },
    {
      "cell_type": "markdown",
      "metadata": {
        "id": "Wf78a8UEX5hY"
      },
      "source": [
        "# Q1 Write a Python function that takes a list of numbers as input and returns the sum of all even numbers in the list"
      ]
    },
    {
      "cell_type": "code",
      "execution_count": null,
      "metadata": {
        "id": "hK7VLxqOX5hY"
      },
      "outputs": [],
      "source": [
        "def sum_of_even_numbers(numbers):\n",
        "\n",
        "    return sum(num for num in numbers if num % 2 == 0)\n",
        "\n",
        "\n",
        "numbers = [47, 11, 42, 13, 20, 6]\n",
        "result = sum_of_even_numbers(numbers)\n",
        "print(\"Sum of even numbers:\", result)\n"
      ]
    },
    {
      "cell_type": "markdown",
      "metadata": {
        "id": "SpuceqFyX5hY"
      },
      "source": [
        "# Ques 2 Create a Python function that accepts a string and returns the reverse of that string."
      ]
    },
    {
      "cell_type": "code",
      "execution_count": null,
      "metadata": {
        "id": "sDTyZHo8X5hY",
        "outputId": "a50ff344-76d1-4c4d-96e5-da1b8d28061d"
      },
      "outputs": [
        {
          "name": "stdout",
          "output_type": "stream",
          "text": [
            "Reversed string: olleH\n"
          ]
        }
      ],
      "source": [
        "def r_string(input_string):\n",
        "\n",
        "    return input_string[::-1]\n",
        "\n",
        "string = \"Hello\"\n",
        "r_string = r_string(string)\n",
        "print(\"Reversed string:\", r_string)\n"
      ]
    },
    {
      "cell_type": "markdown",
      "metadata": {
        "id": "vy2SOXxrX5hY"
      },
      "source": []
    },
    {
      "cell_type": "markdown",
      "metadata": {
        "id": "FhRzKTuLX5hY"
      },
      "source": [
        "# Q 3. Implement a Python function that takes a list of integers and returns a new list containing the squares of each number"
      ]
    },
    {
      "cell_type": "code",
      "execution_count": null,
      "metadata": {
        "id": "cGuexOzMX5hZ",
        "outputId": "7286d673-e671-4e44-ffad-54759b103312"
      },
      "outputs": [
        {
          "name": "stdout",
          "output_type": "stream",
          "text": [
            "list: [1, 4, 9, 16, 25]\n"
          ]
        }
      ],
      "source": [
        "def square_numbers(numbers):\n",
        "    # Use list comprehension to generate a list of squares\n",
        "    return [num ** 2 for num in numbers]\n",
        "\n",
        "# Example usage\n",
        "numbers = [1, 2, 3, 4, 5]\n",
        "s_list = square_numbers(numbers)\n",
        "print(\"list:\", s_list)\n"
      ]
    },
    {
      "cell_type": "markdown",
      "metadata": {
        "id": "Jz1-GDesX5hZ"
      },
      "source": []
    },
    {
      "cell_type": "markdown",
      "metadata": {
        "id": "sU3bDzFGX5hZ"
      },
      "source": [
        "# Q4 4. Write a Python function that checks if a given number is prime or not from 1 to 200"
      ]
    },
    {
      "cell_type": "code",
      "execution_count": null,
      "metadata": {
        "id": "5sEg7y3kX5hZ",
        "outputId": "4b155f56-a39c-4c8b-da86-cc31965ec4c4"
      },
      "outputs": [
        {
          "name": "stdout",
          "output_type": "stream",
          "text": [
            "2\n",
            "3\n",
            "5\n",
            "7\n",
            "11\n",
            "13\n",
            "17\n",
            "19\n",
            "23\n",
            "29\n",
            "31\n",
            "37\n",
            "41\n",
            "43\n",
            "47\n",
            "53\n",
            "59\n",
            "61\n",
            "67\n",
            "71\n",
            "73\n",
            "79\n",
            "83\n",
            "89\n",
            "97\n",
            "101\n",
            "103\n",
            "107\n",
            "109\n",
            "113\n",
            "127\n",
            "131\n",
            "137\n",
            "139\n",
            "149\n",
            "151\n",
            "157\n",
            "163\n",
            "167\n",
            "173\n",
            "179\n",
            "181\n",
            "191\n",
            "193\n",
            "197\n",
            "199\n"
          ]
        }
      ],
      "source": [
        "def prime(n):\n",
        "\n",
        "    if n <= 1:\n",
        "        return False\n",
        "    if n == 2:\n",
        "        return True\n",
        "    if n % 2 == 0:\n",
        "        return False\n",
        "\n",
        "\n",
        "    for i in range(3, int(n ** 0.5) + 1, 2):\n",
        "        if n % i == 0:\n",
        "            return False\n",
        "    return True\n",
        "\n",
        "\n",
        "for num in range(1, 201):\n",
        "    if prime(num):\n",
        "        print(num)\n"
      ]
    },
    {
      "cell_type": "markdown",
      "metadata": {
        "id": "VOL4WSqTX5hZ"
      },
      "source": [
        "# Q5. Create an iterator class in Python that generates the Fibonacci sequence up to a specified number of terms."
      ]
    },
    {
      "cell_type": "code",
      "execution_count": null,
      "metadata": {
        "id": "PzXBMt6kX5hZ",
        "outputId": "6d7c5f88-cb08-4c7e-93f5-360f20334795"
      },
      "outputs": [
        {
          "name": "stdout",
          "output_type": "stream",
          "text": [
            "0\n",
            "1\n",
            "1\n",
            "2\n",
            "3\n",
            "5\n",
            "8\n",
            "13\n",
            "21\n",
            "34\n"
          ]
        }
      ],
      "source": [
        "class Fi:\n",
        "    def __init__(self, n_terms):\n",
        "        self.n_terms = n_terms\n",
        "        self.current_term = 0\n",
        "        self.a, self.b = 0, 1\n",
        "\n",
        "    def __iter__(self):\n",
        "        return self\n",
        "\n",
        "    def __next__(self):\n",
        "        if self.current_term >= self.n_terms:\n",
        "            raise StopIteration\n",
        "\n",
        "\n",
        "        fib_number = self.a\n",
        "        self.a, self.b = self.b, self.a + self.b\n",
        "        self.current_term += 1\n",
        "\n",
        "        return fib_number\n",
        "\n",
        "\n",
        "fib_iterator = Fi(10)\n",
        "for num in fib_iterator:\n",
        "    print(num)\n"
      ]
    },
    {
      "cell_type": "markdown",
      "metadata": {
        "id": "5Aeoc1BHX5hZ"
      },
      "source": [
        "# Q6. Write a generator function in Python that yields the powers of 2 up to a given exponent."
      ]
    },
    {
      "cell_type": "code",
      "execution_count": null,
      "metadata": {
        "id": "TnMU_YDJX5hZ",
        "outputId": "3f676dde-b14d-45d6-dddc-f0fee452afe0"
      },
      "outputs": [
        {
          "name": "stdout",
          "output_type": "stream",
          "text": [
            "1\n",
            "2\n",
            "4\n"
          ]
        }
      ],
      "source": [
        "def powers_two(max_e):\n",
        "    for exponent in range(max_e + 1):\n",
        "        yield 2 ** exponent\n",
        "\n",
        "\n",
        "for value in powers_two(2):\n",
        "    print(value)\n"
      ]
    },
    {
      "cell_type": "markdown",
      "metadata": {
        "id": "gtkBDs9qX5hZ"
      },
      "source": [
        "# Q7 7. Implement a generator function that reads a file line by line and yields each line as a string."
      ]
    },
    {
      "cell_type": "code",
      "execution_count": null,
      "metadata": {
        "id": "nepi9JTnX5ha",
        "outputId": "134e27bd-d43b-4991-beb4-75dfa9b60be6"
      },
      "outputs": [
        {
          "ename": "FileNotFoundError",
          "evalue": "[Errno 2] No such file or directory: 'f:\\\\mark\\\\python\\\\Wonderland.txt'",
          "output_type": "error",
          "traceback": [
            "\u001b[1;31m---------------------------------------------------------------------------\u001b[0m",
            "\u001b[1;31mFileNotFoundError\u001b[0m                         Traceback (most recent call last)",
            "Cell \u001b[1;32mIn[36], line 8\u001b[0m\n\u001b[0;32m      5\u001b[0m         \u001b[38;5;28;01mfor\u001b[39;00m line \u001b[38;5;129;01min\u001b[39;00m file:\n\u001b[0;32m      6\u001b[0m             \u001b[38;5;28;01myield\u001b[39;00m line\n\u001b[1;32m----> 8\u001b[0m \u001b[38;5;28;43;01mfor\u001b[39;49;00m\u001b[43m \u001b[49m\u001b[43mline\u001b[49m\u001b[43m \u001b[49m\u001b[38;5;129;43;01min\u001b[39;49;00m\u001b[43m \u001b[49m\u001b[43mread_file\u001b[49m\u001b[43m(\u001b[49m\u001b[43mtextfile\u001b[49m\u001b[43m)\u001b[49m\u001b[43m:\u001b[49m\n\u001b[0;32m      9\u001b[0m \u001b[43m    \u001b[49m\u001b[38;5;28;43mprint\u001b[39;49m\u001b[43m(\u001b[49m\u001b[43mline\u001b[49m\u001b[43m)\u001b[49m\n",
            "Cell \u001b[1;32mIn[36], line 4\u001b[0m, in \u001b[0;36mread_file\u001b[1;34m(file_path)\u001b[0m\n\u001b[0;32m      3\u001b[0m \u001b[38;5;28;01mdef\u001b[39;00m \u001b[38;5;21mread_file\u001b[39m(file_path):\n\u001b[1;32m----> 4\u001b[0m     \u001b[38;5;28;01mwith\u001b[39;00m \u001b[38;5;28;43mopen\u001b[39;49m\u001b[43m(\u001b[49m\u001b[43mfile_path\u001b[49m\u001b[43m,\u001b[49m\u001b[43m \u001b[49m\u001b[38;5;124;43m'\u001b[39;49m\u001b[38;5;124;43mr\u001b[39;49m\u001b[38;5;124;43m'\u001b[39;49m\u001b[43m)\u001b[49m \u001b[38;5;28;01mas\u001b[39;00m file:\n\u001b[0;32m      5\u001b[0m         \u001b[38;5;28;01mfor\u001b[39;00m line \u001b[38;5;129;01min\u001b[39;00m file:\n\u001b[0;32m      6\u001b[0m             \u001b[38;5;28;01myield\u001b[39;00m line\n",
            "File \u001b[1;32m~\\AppData\\Local\\Packages\\PythonSoftwareFoundation.Python.3.11_qbz5n2kfra8p0\\LocalCache\\local-packages\\Python311\\site-packages\\IPython\\core\\interactiveshell.py:324\u001b[0m, in \u001b[0;36m_modified_open\u001b[1;34m(file, *args, **kwargs)\u001b[0m\n\u001b[0;32m    317\u001b[0m \u001b[38;5;28;01mif\u001b[39;00m file \u001b[38;5;129;01min\u001b[39;00m {\u001b[38;5;241m0\u001b[39m, \u001b[38;5;241m1\u001b[39m, \u001b[38;5;241m2\u001b[39m}:\n\u001b[0;32m    318\u001b[0m     \u001b[38;5;28;01mraise\u001b[39;00m \u001b[38;5;167;01mValueError\u001b[39;00m(\n\u001b[0;32m    319\u001b[0m         \u001b[38;5;124mf\u001b[39m\u001b[38;5;124m\"\u001b[39m\u001b[38;5;124mIPython won\u001b[39m\u001b[38;5;124m'\u001b[39m\u001b[38;5;124mt let you open fd=\u001b[39m\u001b[38;5;132;01m{\u001b[39;00mfile\u001b[38;5;132;01m}\u001b[39;00m\u001b[38;5;124m by default \u001b[39m\u001b[38;5;124m\"\u001b[39m\n\u001b[0;32m    320\u001b[0m         \u001b[38;5;124m\"\u001b[39m\u001b[38;5;124mas it is likely to crash IPython. If you know what you are doing, \u001b[39m\u001b[38;5;124m\"\u001b[39m\n\u001b[0;32m    321\u001b[0m         \u001b[38;5;124m\"\u001b[39m\u001b[38;5;124myou can use builtins\u001b[39m\u001b[38;5;124m'\u001b[39m\u001b[38;5;124m open.\u001b[39m\u001b[38;5;124m\"\u001b[39m\n\u001b[0;32m    322\u001b[0m     )\n\u001b[1;32m--> 324\u001b[0m \u001b[38;5;28;01mreturn\u001b[39;00m \u001b[43mio_open\u001b[49m\u001b[43m(\u001b[49m\u001b[43mfile\u001b[49m\u001b[43m,\u001b[49m\u001b[43m \u001b[49m\u001b[38;5;241;43m*\u001b[39;49m\u001b[43margs\u001b[49m\u001b[43m,\u001b[49m\u001b[43m \u001b[49m\u001b[38;5;241;43m*\u001b[39;49m\u001b[38;5;241;43m*\u001b[39;49m\u001b[43mkwargs\u001b[49m\u001b[43m)\u001b[49m\n",
            "\u001b[1;31mFileNotFoundError\u001b[0m: [Errno 2] No such file or directory: 'f:\\\\mark\\\\python\\\\Wonderland.txt'"
          ]
        }
      ],
      "source": [
        "\n",
        "textfile = \"f:\\\\mark\\\\python\\\\Wonderland.txt\"\n",
        "\n",
        "def read_file(file_path):\n",
        "    with open(file_path, 'r') as file:\n",
        "        for line in file:\n",
        "            yield line\n",
        "\n",
        "for line in read_file(textfile):\n",
        "    print(line)\n"
      ]
    },
    {
      "cell_type": "markdown",
      "metadata": {
        "id": "QLvHSqrYX5ha"
      },
      "source": [
        "# Q8 8. Use a lambda function in Python to sort a list of tuples based on the second element of each tuple"
      ]
    },
    {
      "cell_type": "code",
      "execution_count": null,
      "metadata": {
        "id": "4OoiDbLGX5ha",
        "outputId": "68d48aa5-d0d3-446d-d3d1-cd1684e8ac24"
      },
      "outputs": [
        {
          "name": "stdout",
          "output_type": "stream",
          "text": [
            "[('cherry', 1), ('apple', 2), ('banana', 3), ('date', 5)]\n"
          ]
        }
      ],
      "source": [
        "\n",
        "tuples_list = [('apple', 2), ('banana', 3), ('cherry', 1), ('date', 5)]\n",
        "\n",
        "\n",
        "sorted_list = sorted(tuples_list, key=lambda x: x[1])\n",
        "\n",
        "print(sorted_list)\n"
      ]
    },
    {
      "cell_type": "markdown",
      "metadata": {
        "id": "DFs7l4Z3X5ha"
      },
      "source": [
        "# Q9 Write a Python program that uses map() to convert a list of temperatures from Celsius to Fahrenheit"
      ]
    },
    {
      "cell_type": "code",
      "execution_count": null,
      "metadata": {
        "id": "n5NPhB_BX5ha",
        "outputId": "b2e89cc0-e841-4579-d045-1d4a804c7444"
      },
      "outputs": [
        {
          "name": "stdout",
          "output_type": "stream",
          "text": [
            "[32.0, 50.0, 68.0, 86.0, 104.0]\n"
          ]
        }
      ],
      "source": [
        "\n",
        "def c_to_f(celsius):\n",
        "    return (celsius * 9/5) + 32\n",
        "\n",
        "\n",
        "celsius_temps = [0, 10, 20, 30, 40]\n",
        "\n",
        "\n",
        "fahrenheit = list(map(c_to_f, celsius_temps))\n",
        "\n",
        "\n",
        "print(fahrenheit)\n"
      ]
    },
    {
      "cell_type": "markdown",
      "metadata": {
        "id": "9wxQGfcjX5ha"
      },
      "source": []
    },
    {
      "cell_type": "markdown",
      "metadata": {
        "id": "1R7FMCN6X5ha"
      },
      "source": [
        "# Q10. Create a Python program that uses `filter()` to remove all the vowels from a given string."
      ]
    },
    {
      "cell_type": "code",
      "execution_count": null,
      "metadata": {
        "id": "eaZAJck3X5ha",
        "outputId": "b349f2b9-ab09-4882-a0bc-d1655f5efd35"
      },
      "outputs": [
        {
          "name": "stdout",
          "output_type": "stream",
          "text": [
            "Hll, Wrld!\n"
          ]
        }
      ],
      "source": [
        "\n",
        "vowels = 'aeiou'\n",
        "\n",
        "def remove_vowels(input_string):\n",
        "    return ''.join(filter(lambda char: char.lower() not in vowels, input_string))\n",
        "\n",
        "print(remove_vowels(\"Hello, World!\"))\n"
      ]
    },
    {
      "cell_type": "markdown",
      "metadata": {
        "id": "WK81qYqYX5ha"
      },
      "source": [
        "# Question 11:Imagine an accounting routine used in a book shop. It works on a list with sublists, which look like this:\n",
        "\n",
        "Write a Python program, which returns a list with 2-tuples. Each tuple consists of the order number and the product of the price per item and the quantity. The product should be increased by 10 € if the value of the order is smaller than 100 €.\n",
        "\n",
        "Write a Python program using lambda and map\n",
        "\n"
      ]
    },
    {
      "cell_type": "code",
      "execution_count": null,
      "metadata": {
        "id": "uespkm8PX5hb",
        "outputId": "f82b96fb-d14a-4550-bdcb-4ffd9b68336e"
      },
      "outputs": [
        {
          "name": "stdout",
          "output_type": "stream",
          "text": [
            "[(34587, 163.8), (98762, 284.0), (77226, 108.85000000000001), (88112, 84.97)]\n"
          ]
        }
      ],
      "source": [
        "\n",
        "orders = [\n",
        "    [34587, \"Learning Python, Mark Lutz\", 4, 40.95],\n",
        "    [98762, \"Programming Python, Mark Lutz\", 5, 56.80],\n",
        "    [77226, \"Head First Python, Paul Barry\", 3, 32.95],\n",
        "    [88112, \"Einführung in Python3, Bernd Klein\", 3, 24.99]\n",
        "]\n",
        "\n",
        "order_totals = list(map(lambda order: (order[0], order[2] * order[3] + (10 if order[2] * order[3] < 100 else 0)), orders))\n",
        "\n",
        "\n",
        "print(order_totals)\n"
      ]
    }
  ],
  "metadata": {
    "kernelspec": {
      "display_name": "Python 3",
      "language": "python",
      "name": "python3"
    },
    "language_info": {
      "codemirror_mode": {
        "name": "ipython",
        "version": 3
      },
      "file_extension": ".py",
      "mimetype": "text/x-python",
      "name": "python",
      "nbconvert_exporter": "python",
      "pygments_lexer": "ipython3",
      "version": "3.11.9"
    },
    "colab": {
      "provenance": [],
      "include_colab_link": true
    }
  },
  "nbformat": 4,
  "nbformat_minor": 0
}