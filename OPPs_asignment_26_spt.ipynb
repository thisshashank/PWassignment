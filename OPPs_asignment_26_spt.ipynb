{
  "cells": [
    {
      "cell_type": "markdown",
      "metadata": {
        "id": "view-in-github",
        "colab_type": "text"
      },
      "source": [
        "<a href=\"https://colab.research.google.com/github/thisshashank/PWassignment/blob/main/OPPs_asignment_26_spt.ipynb\" target=\"_parent\"><img src=\"https://colab.research.google.com/assets/colab-badge.svg\" alt=\"Open In Colab\"/></a>"
      ]
    },
    {
      "cell_type": "markdown",
      "metadata": {
        "id": "5ZLj6E_Fi2hY"
      },
      "source": [
        "# Q1. What are the five key concepts of Object-Oriented Programming (OOP)?"
      ]
    },
    {
      "cell_type": "markdown",
      "metadata": {
        "id": "eFJT7bS5i2hb"
      },
      "source": [
        "# Ans -\n",
        "1. Encapsulation: Bundling data and methods within a class, restricting access to protect the integrity of the data.\n",
        "\n",
        "2. Abstraction: Hiding complex implementation details while exposing only essential features.\n",
        "\n",
        "3. Inheritance: Allowing one class to inherit attributes and methods from another, promoting code reuse.\n",
        "\n",
        "4. Polymorphism: Enabling objects of different classes to be treated as instances of a common superclass, allowing method overriding.\n",
        "\n",
        "5. Composition: Building complex objects from simpler ones by containing references to other objects, enhancing modularity."
      ]
    },
    {
      "cell_type": "code",
      "execution_count": null,
      "metadata": {
        "id": "IulD0jK4i2hc"
      },
      "outputs": [],
      "source": []
    },
    {
      "cell_type": "markdown",
      "metadata": {
        "id": "3JXgntSLi2hc"
      },
      "source": [
        "# Q2. Write a Python class for a `Car` with attributes for `make`, `model`, and `year`. Include a method to display the car's information.\n",
        "\n",
        "\n"
      ]
    },
    {
      "cell_type": "code",
      "execution_count": null,
      "metadata": {
        "id": "ajxPdUFni2hc"
      },
      "outputs": [],
      "source": [
        "class Car:\n",
        "    def __init__(self, make, model, year):\n",
        "        self.make = make\n",
        "        self.model = model\n",
        "        self.year = year\n",
        "\n",
        "    def display_info(self):\n",
        "        print(f\"Car Information: {self.year} {self.make} {self.model}\")\n",
        "\n",
        "\n",
        "my_car = Car(\"Toyota\", \"Corolla\", 2020)\n",
        "my_car.display_info()\n"
      ]
    },
    {
      "cell_type": "markdown",
      "metadata": {
        "id": "24NL6mvTi2hd"
      },
      "source": [
        "# Q3 Explain the difference between instance methods and class methods. Provide an example of each."
      ]
    },
    {
      "cell_type": "code",
      "execution_count": null,
      "metadata": {
        "id": "oli63XRbi2he"
      },
      "outputs": [],
      "source": [
        "# Instance Methods: These are bound to the instance of the class and can access instance attributes. They operate on individual object data.\n",
        "class Car:\n",
        "    def __init__(self, make, model):\n",
        "        self.make = make\n",
        "        self.model = model\n",
        "\n",
        "    def display_info(self):\n",
        "        return f\"{self.make} {self.model}\"\n",
        "\n",
        "my_car = Car(\"Toyota\", \"Corolla\")\n",
        "print(my_car.display_info())\n"
      ]
    },
    {
      "cell_type": "code",
      "execution_count": null,
      "metadata": {
        "id": "JeTrBAdFi2he"
      },
      "outputs": [],
      "source": [
        "# Class Methods: These are bound to the class itself and use the @classmethod decorator. They can access class attributes and are often used for factory methods.\n",
        "class Car:\n",
        "    number_of_wheels = 4\n",
        "\n",
        "    @classmethod\n",
        "    def get_wheel_count(cls):\n",
        "        return cls.number_of_wheels\n",
        "\n",
        "print(Car.get_wheel_count())\n"
      ]
    },
    {
      "cell_type": "markdown",
      "metadata": {
        "id": "lcLP1oT_i2he"
      },
      "source": [
        "# Q4. How does Python implement method overloading? Give an example"
      ]
    },
    {
      "cell_type": "code",
      "execution_count": null,
      "metadata": {
        "id": "JLrMKaV4i2hf"
      },
      "outputs": [],
      "source": [
        "'''Python does not support method overloading directly as some other languages do. However,\n",
        "you can achieve similar functionality by using default arguments or handling different types\n",
        "of inputs within a single method. Here's an example:'''\n",
        "class Example:\n",
        "    def greet(self, name=None):\n",
        "        if name is not None:\n",
        "            print(f\"Hello, {name}!\")\n",
        "        else:\n",
        "            print(\"Hello, World!\")\n",
        "\n",
        "# Usage\n",
        "obj = Example()\n",
        "obj.greet()\n",
        "obj.greet(\"Alice\")\n",
        "\n",
        "# the greet method behaves differently based on whether a name is provided or not,\n",
        "# mimicking method overloading.\n",
        "\n"
      ]
    },
    {
      "cell_type": "markdown",
      "metadata": {
        "id": "evTCsCL6i2hf"
      },
      "source": [
        "# Q5. What are the three types of access modifiers in Python? How are they denoted?"
      ]
    },
    {
      "cell_type": "markdown",
      "metadata": {
        "id": "Um_HPSOPi2hg"
      },
      "source": [
        "In Python, access modifiers are used to define the accessibility of class members (attributes and methods). Python has three types of access modifiers:\n",
        "\n",
        "1. Public: Accessible from anywhere.\n",
        "\n",
        "a. Denoted by: No underscore or a single underscore before the name.\n",
        "Example: self.name\n",
        "   Protected: Should not be accessed outside the class and its subclasses, but not strictly enforced.\n",
        "a. Denoted by: A single underscore _.\n",
        "Example: self._age\n",
        "  Private: Intended to be accessible only within the class (name mangling is applied to avoid accidental access).\n",
        "b. Denoted by: Double underscores __.\n",
        " Example: self.__salary\n",
        "\n"
      ]
    },
    {
      "cell_type": "code",
      "execution_count": null,
      "metadata": {
        "id": "tZ6pxaGei2hg"
      },
      "outputs": [],
      "source": [
        "class Employee:\n",
        "    def __init__(self):\n",
        "        self.name = \"John\"         # Public\n"
      ]
    },
    {
      "cell_type": "markdown",
      "metadata": {
        "id": "ks8h3Dowi2hg"
      },
      "source": [
        "# Q6. Describe the five types of inheritance in Python. Provide a simple example of multiple inheritance"
      ]
    },
    {
      "cell_type": "markdown",
      "metadata": {
        "id": "Ocy40pTUi2hh"
      },
      "source": [
        "in Python, there are five types of inheritance:\n",
        "\n",
        "1. Single Inheritance: A class inherits from one base class.\n",
        "\n",
        "Example: class B(A)\n",
        "2. Multiple Inheritance: A class inherits from more than one base class.\n",
        "\n",
        "3. Example: class C(A, B)\n",
        "Multilevel Inheritance: A class inherits from a base class, and another class inherits from that derived class.\n",
        "\n",
        "Example: class B(A) and class C(B)\n",
        "4. Hierarchical Inheritance: Multiple classes inherit from the same base class.\n",
        "\n",
        "Example: class B(A) and class C(A)\n",
        "5. Hybrid Inheritance: A combination of more than one type of inheritance.\n",
        "\n",
        "Example: A mix of hierarchical and multiple inheritance."
      ]
    },
    {
      "cell_type": "code",
      "execution_count": 1,
      "metadata": {
        "colab": {
          "base_uri": "https://localhost:8080/"
        },
        "id": "DkL0_d8Bi2hh",
        "outputId": "b1139112-7b51-40bb-9e8d-389ac9d70600"
      },
      "outputs": [
        {
          "output_type": "stream",
          "name": "stdout",
          "text": [
            "Parent1 method\n",
            "Parent2 method\n",
            "Child method\n"
          ]
        }
      ],
      "source": [
        "class Parent1:\n",
        "    def display1(self):\n",
        "        print(\"Parent1 method\")\n",
        "\n",
        "class Parent2:\n",
        "    def display2(self):\n",
        "        print(\"Parent2 method\")\n",
        "\n",
        "class Child(Parent1, Parent2):\n",
        "    def display_child(self):\n",
        "        print(\"Child method\")\n",
        "child = Child()\n",
        "child.display1()\n",
        "child.display2()\n",
        "child.display_child()"
      ]
    },
    {
      "cell_type": "markdown",
      "metadata": {
        "id": "Mf_qbbp0i2hh"
      },
      "source": [
        "# Q7. What is the Method Resolution Order (MRO) in Python? How can you retrieve it programmatically?"
      ]
    },
    {
      "cell_type": "markdown",
      "metadata": {
        "id": "3xHadF6Si2hh"
      },
      "source": [
        "\n",
        "The Method Resolution Order (MRO) determines the order in which Python searches for a method in a class hierarchy, ensuring a consistent lookup path, especially in multiple inheritance. It follows the C3 linearization algorithm, prioritizing parents from left to right."
      ]
    },
    {
      "cell_type": "code",
      "execution_count": null,
      "metadata": {
        "id": "_b-0qbsJi2hh"
      },
      "outputs": [],
      "source": [
        "class A:\n",
        "    def process(self):\n",
        "        print(\"A process\")\n",
        "\n",
        "class B(A):\n",
        "    def process(self):\n",
        "        print(\"B process\")\n",
        "\n",
        "class C(A):\n",
        "    def process(self):\n",
        "        print(\"C process\")\n",
        "\n",
        "class D(B, C):\n",
        "    pass\n",
        "\n",
        "obj = D()\n",
        "obj.process()\n"
      ]
    },
    {
      "cell_type": "code",
      "execution_count": null,
      "metadata": {
        "id": "P45IIsMUi2hi"
      },
      "outputs": [],
      "source": [
        "''' How to Retrieve MRO Programmatically:\n",
        "You can retrieve the MRO of a class using:\n",
        "\n",
        "1. ClassName.__mro__ (returns a tuple)\n",
        "2. ClassName.mro() (returns a list)'''\n",
        "\n",
        "print(D.__mro__)\n",
        "print(D.mro())\n"
      ]
    },
    {
      "cell_type": "markdown",
      "metadata": {
        "id": "3n2kF5nzi2hi"
      },
      "source": [
        "# Q8. Create an abstract base class Shape with an abstract method area(). Then create two subclasses Circle and Rectangle that implement the area() method."
      ]
    },
    {
      "cell_type": "code",
      "execution_count": null,
      "metadata": {
        "id": "ZM3CfmNgi2hj"
      },
      "outputs": [],
      "source": [
        "from abc import ABC, abstractmethod\n",
        "import math\n",
        "\n",
        "class Shape(ABC):\n",
        "    @abstractmethod\n",
        "    def area(self):\n",
        "        pass\n",
        "\n",
        "\n",
        "class Circle(Shape):\n",
        "    def __init__(self, radius):\n",
        "        self.radius = radius\n",
        "\n",
        "    def area(self):\n",
        "        return math.pi * self.radius ** 2\n",
        "\n",
        "\n",
        "class Rectangle(Shape):\n",
        "    def __init__(self, width, height):\n",
        "        self.width = width\n",
        "        self.height = height\n",
        "\n",
        "    def area(self):\n",
        "        return self.width * self.height\n",
        "\n",
        "# Usage\n",
        "circle = Circle(5)\n",
        "rectangle = Rectangle(4, 6)\n",
        "\n",
        "print(f\"Circle Area: {circle.area()}\")\n",
        "print(f\"Rectangle Area: {rectangle.area()}\")\n"
      ]
    },
    {
      "cell_type": "markdown",
      "metadata": {
        "id": "rmnQEswqi2hj"
      },
      "source": [
        "# Q9. Demonstrate polymorphism by creating a function that can work with different shape objects to calculate and print their areas."
      ]
    },
    {
      "cell_type": "code",
      "execution_count": null,
      "metadata": {
        "id": "HIbubB2ci2hk"
      },
      "outputs": [],
      "source": [
        "'''Polymorphism allows you to write a function that can work with different objects, even if they are of different types,\n",
        "as long as they implement the same interface (in this case, the area() method).'''\n",
        "\n",
        "\n",
        "\n",
        "def print_area(shape):\n",
        "    print(f\"Area: {shape.area()}\")\n",
        "\n",
        "circle = Circle(5)\n",
        "rectangle = Rectangle(4, 6)\n",
        "\n",
        "print_area(circle)\n",
        "print_area(rectangle)"
      ]
    },
    {
      "cell_type": "markdown",
      "metadata": {
        "id": "H-i8-Piqi2hk"
      },
      "source": [
        "# Q10. Implement encapsulation in a `BankAccount` class with private attributes for `balance` and`account_number`. Include methods for deposit, withdrawal, and balance inquiry."
      ]
    },
    {
      "cell_type": "code",
      "execution_count": null,
      "metadata": {
        "id": "-kgdvTcKi2hk"
      },
      "outputs": [],
      "source": [
        "class BankAccount:\n",
        "    def __init__(self, account_number, initial_balance=0):\n",
        "        self.__account_number = account_number\n",
        "        self.__balance = initial_balance\n",
        "\n",
        "\n",
        "    def deposit(self, amount):\n",
        "        if amount > 0:\n",
        "            self.__balance += amount\n",
        "            print(f\"Deposited: ${amount}\")\n",
        "        else:\n",
        "            print(\"Invalid deposit amount\")\n",
        "y\n",
        "    def withdraw(self, amount):\n",
        "        if 0 < amount <= self.__balance:\n",
        "            self.__balance -= amount\n",
        "            print(f\"Withdrew: ${amount}\")\n",
        "        else:\n",
        "            print(\"Insufficient funds or invalid withdrawal amount\")\n",
        "\n",
        "    def get_balance(self):\n",
        "        return self.__balance\n",
        "\n",
        "account = BankAccount(\"1234567890\", 100)\n",
        "account.deposit(50)\n",
        "account.withdraw(30)\n",
        "print(account.get_balance())\n"
      ]
    },
    {
      "cell_type": "markdown",
      "metadata": {
        "id": "ooWut_jXi2hk"
      },
      "source": [
        "# Q11. Write a class that overrides the `__str__` and `__add__` magic methods. What will these methods allow you to do?"
      ]
    },
    {
      "cell_type": "code",
      "execution_count": null,
      "metadata": {
        "id": "svisaqSOi2hl"
      },
      "outputs": [],
      "source": [
        "class Book:\n",
        "    def __init__(self, title, pages):\n",
        "        self.title = title\n",
        "        self.pages = pages\n",
        "\n",
        "\n",
        "    def __str__(self):\n",
        "        return f\"'{self.title}' with {self.pages} pages\"\n",
        "\n",
        "\n",
        "    def __add__(self, other):\n",
        "        return self.pages + other.pages\n",
        "\n",
        "book1 = Book(\"Python Basics\", 200)\n",
        "book2 = Book(\"Advanced Python\", 300)\n",
        "\n",
        "print(book1)\n",
        "print(book2)\n",
        "\n",
        "total_pages = book1 + book2\n",
        "print(f\"Total Pages: {total_pages}\")\n",
        "\n",
        "\n",
        "''''The __str__ method provides a human-readable representation of the Vector object, which is useful for debugging and logging.\n",
        "\n",
        "    The __add__ method enables the use of the + operator to add two Vector instances, returning a new Vector object with the summed components.\n",
        "\n",
        "By implementing these magic methods, you can enhance the usability and intuitiveness of your custom classes, allowing them to integrate\n",
        "seamlessly with Python's built-in functions and operators.'''"
      ]
    },
    {
      "cell_type": "markdown",
      "metadata": {
        "id": "nntFDRcZi2hl"
      },
      "source": [
        "# Q 12. Create a decorator that measures and prints the execution time of a function."
      ]
    },
    {
      "cell_type": "code",
      "execution_count": null,
      "metadata": {
        "id": "2kg9Fz7pi2hl"
      },
      "outputs": [],
      "source": [
        "import time\n",
        "\n",
        "def execution_time_decorator(func):\n",
        "    def wrapper(*args, **kwargs):\n",
        "        start_time = time.time()\n",
        "        result = func(*args, **kwargs)\n",
        "        end_time = time.time()\n",
        "        execution_time = end_time - start_time\n",
        "        print(f\"Execution time: {execution_time:.6f} seconds\")\n",
        "        return result\n",
        "    return wrapper\n",
        "@execution_time_decorator\n",
        "def example_function(n):\n",
        "    total = 0\n",
        "    for i in range(n):\n",
        "        total += i\n",
        "    return total\n",
        "example_function(1000000)\n"
      ]
    },
    {
      "cell_type": "markdown",
      "metadata": {
        "id": "7GmGmjLqi2hl"
      },
      "source": [
        "# Q13. Explain the concept of the Diamond Problem in multiple inheritance. How does Python resolve it?"
      ]
    },
    {
      "cell_type": "markdown",
      "metadata": {
        "id": "ZFI6F4Myi2hm"
      },
      "source": [
        "The Diamond Problem occurs in multiple inheritance when a class inherits from two classes that share a common base class, leading to ambiguity in the method resolution order (MRO)."
      ]
    },
    {
      "cell_type": "code",
      "execution_count": null,
      "metadata": {
        "id": "KhpdIQF_i2hm"
      },
      "outputs": [],
      "source": [
        "class A:\n",
        "    def process(self):\n",
        "        print(\"A process\")\n",
        "\n",
        "class B(A): pass\n",
        "class C(A): pass\n",
        "class D(B, C): pass\n",
        "\n",
        "print(D.mro())\n",
        "\n",
        "# The MRO ensures that methods are searched in the order [D, B, C, A],\n",
        "# resolving the diamond problem."
      ]
    },
    {
      "cell_type": "markdown",
      "metadata": {
        "id": "-0IJQMRNi2hm"
      },
      "source": []
    },
    {
      "cell_type": "markdown",
      "metadata": {
        "id": "i3_H351qi2hm"
      },
      "source": [
        "# Q14. Write a class method that keeps track of the number of instances created from a class."
      ]
    },
    {
      "cell_type": "code",
      "execution_count": null,
      "metadata": {
        "id": "K-2p1UYZi2hn"
      },
      "outputs": [],
      "source": [
        "class MyClass:\n",
        "    instance_count = 0\n",
        "\n",
        "    def __init__(self):\n",
        "        MyClass.instance_count += 1\n",
        "\n",
        "    @classmethod\n",
        "    def get_instance_count(cls):\n",
        "        return cls.instance_count\n",
        "obj1 = MyClass()\n",
        "obj2 = MyClass()\n",
        "\n",
        "print(MyClass.get_instance_count())\n"
      ]
    },
    {
      "cell_type": "markdown",
      "metadata": {
        "id": "y4FzWlQ3i2hn"
      },
      "source": []
    },
    {
      "cell_type": "markdown",
      "metadata": {
        "id": "7HqJgBIyi2hn"
      },
      "source": [
        "# Q15. Implement a static method in a class that checks if a given year is a leap year"
      ]
    },
    {
      "cell_type": "code",
      "execution_count": null,
      "metadata": {
        "id": "YNo94AgTi2ho"
      },
      "outputs": [],
      "source": [
        "class Year:\n",
        "    @staticmethod\n",
        "    def is_leap_year(year):\n",
        "        if (year % 4 == 0 and year % 100 != 0) or (year % 400 == 0):\n",
        "            return True\n",
        "        return False\n",
        "print(Year.is_leap_year(2020))\n",
        "print(Year.is_leap_year(2021))"
      ]
    }
  ],
  "metadata": {
    "kernelspec": {
      "display_name": "base",
      "language": "python",
      "name": "python3"
    },
    "language_info": {
      "codemirror_mode": {
        "name": "ipython",
        "version": 3
      },
      "file_extension": ".py",
      "mimetype": "text/x-python",
      "name": "python",
      "nbconvert_exporter": "python",
      "pygments_lexer": "ipython3",
      "version": "3.11.3"
    },
    "colab": {
      "provenance": [],
      "include_colab_link": true
    }
  },
  "nbformat": 4,
  "nbformat_minor": 0
}