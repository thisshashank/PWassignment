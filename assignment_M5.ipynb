{
  "cells": [
    {
      "cell_type": "markdown",
      "metadata": {
        "id": "view-in-github",
        "colab_type": "text"
      },
      "source": [
        "<a href=\"https://colab.research.google.com/github/thisshashank/PWassignment/blob/main/assignment_M5.ipynb\" target=\"_parent\"><img src=\"https://colab.research.google.com/assets/colab-badge.svg\" alt=\"Open In Colab\"/></a>"
      ]
    },
    {
      "cell_type": "markdown",
      "metadata": {
        "id": "Ex2Knracpd5b"
      },
      "source": [
        "# ques1 - discuss the string slicing and provide the example.\n"
      ]
    },
    {
      "cell_type": "code",
      "execution_count": null,
      "metadata": {
        "id": "LFJ3YX99pd5e",
        "outputId": "e40ddd33-084c-4be5-bce2-2b1aee224f3c"
      },
      "outputs": [
        {
          "name": "stdout",
          "output_type": "stream",
          "text": [
            "Hello\n",
            "World!\n"
          ]
        }
      ],
      "source": [
        "'''ans- string slicing in python used to create the sub string by specifying a start and end index.\n",
        "        string [start:end] '''\n",
        "#example\n",
        "p = \"Hello, World!\"\n",
        "print(p[0:5]) #:\"Hello\"\n",
        "print(p[7:]) #:\"World\""
      ]
    },
    {
      "cell_type": "markdown",
      "metadata": {
        "id": "g-Mo9Yx4pd5h"
      },
      "source": []
    },
    {
      "cell_type": "markdown",
      "metadata": {
        "id": "vMle9BT_pd5h"
      },
      "source": [
        "# ques2 - Explain the key feature of list python?\n"
      ]
    },
    {
      "cell_type": "code",
      "execution_count": null,
      "metadata": {
        "id": "KaHEbWAIpd5i",
        "outputId": "d9a9b078-2d09-4a75-e41d-b2c7ea0325fb"
      },
      "outputs": [
        {
          "name": "stdout",
          "output_type": "stream",
          "text": [
            "shashank\n",
            "2\n",
            "2.4\n",
            "1\n",
            "[36, 98, 0]\n",
            "True\n",
            "False\n"
          ]
        }
      ],
      "source": [
        "'''Ans 2- list contain elements of diffrent data types in ordered way. it is mutable.\n",
        "feature of lists in python :\n",
        "1. Mutable - can be altered after creation.\n",
        "2. Multiple datatype - its have diffrent data type like string , folat, int\n",
        "3. Ordered - we can element by using index .\n",
        "4. iterabile - we can iterate all element using loop concept. '''\n",
        "\n",
        "list= [2,2.4,\"shashank\",[36,98,0],True, False]\n",
        "\n",
        "print(list[2]) #indexing : hello\n",
        "\n",
        "list[2]=1 #modify: 1\n",
        "\n",
        "for i in list: #iterate:\n",
        "    print(i)\n",
        "\n",
        "\n",
        "\n"
      ]
    },
    {
      "cell_type": "markdown",
      "metadata": {
        "id": "A1wVu7xJpd5i"
      },
      "source": []
    },
    {
      "cell_type": "markdown",
      "metadata": {
        "id": "XbzE-RV3pd5j"
      },
      "source": [
        "# Ques3 Describe how to access , modify and delete the item in list with example."
      ]
    },
    {
      "cell_type": "code",
      "execution_count": null,
      "metadata": {
        "id": "uWCYA3Z6pd5j",
        "outputId": "c915ef1c-416d-42ea-f5d9-7b5020e1b76b"
      },
      "outputs": [
        {
          "name": "stdout",
          "output_type": "stream",
          "text": [
            "shashank\n"
          ]
        }
      ],
      "source": [
        "#ans -3\n",
        "#1 acess - to access the item we use indexing .\n",
        "list1= [\"shashank\",1,2.4,[36,98,0],True]\n",
        "print(list1[0])"
      ]
    },
    {
      "cell_type": "code",
      "execution_count": null,
      "metadata": {
        "id": "TdmcMsChpd5j",
        "outputId": "61d69573-32fc-49b5-c50a-bb616624a00c"
      },
      "outputs": [
        {
          "name": "stdout",
          "output_type": "stream",
          "text": [
            "['shashank', 1, 'apple', [36, 98, 0], True]\n"
          ]
        }
      ],
      "source": [
        "#2 modify- list are mutable in nature we can do change after creating .\n",
        "list1[2]=\"apple\" #modify: 1\n",
        "print(list1)"
      ]
    },
    {
      "cell_type": "code",
      "execution_count": null,
      "metadata": {
        "id": "DDpiS9Wipd5k",
        "outputId": "53d3092c-f25b-465c-b93c-6c33ddc8b5e4"
      },
      "outputs": [
        {
          "data": {
            "text/plain": [
              "True"
            ]
          },
          "execution_count": 19,
          "metadata": {},
          "output_type": "execute_result"
        }
      ],
      "source": [
        "#3 Delete the item- we can use pop, remove & del function to delete the item.\n",
        "list1.remove(\"apple\") #:['shashank', 1, 'apple', [36, 98, 0], True]\n",
        "\n",
        "list1.pop() #:['shashank', 1, [36, 98, 0]]"
      ]
    },
    {
      "cell_type": "markdown",
      "metadata": {
        "id": "zGvGnNmSpd5k"
      },
      "source": []
    },
    {
      "cell_type": "markdown",
      "metadata": {
        "id": "9MQ3ZxvGpd5l"
      },
      "source": [
        "# ques4 - compare and contrast tuple and list with example."
      ]
    },
    {
      "cell_type": "code",
      "execution_count": null,
      "metadata": {
        "id": "GTLuFbfGpd5l",
        "outputId": "462f4f9c-9acd-42c8-f8e3-cb075cea65c8"
      },
      "outputs": [
        {
          "name": "stdout",
          "output_type": "stream",
          "text": [
            "['aaple', 'licchi', 'mango']\n"
          ]
        }
      ],
      "source": [
        "#Ans 3-\n",
        "#1- mutable -\n",
        "'''list - list are mutable\n",
        "   tuple- not mutable'''\n",
        "\n",
        "list_fruit= ['aaple','licchi','banana']\n",
        "\n",
        "list_fruit[2]=\"mango\" #modify: 1\n",
        "print(list_fruit)"
      ]
    },
    {
      "cell_type": "code",
      "execution_count": null,
      "metadata": {
        "id": "93VQf11Jpd5l"
      },
      "outputs": [],
      "source": [
        "tuple = (1, 2, 3)\n",
        "tuple[2]=\"mango\" #modify: error"
      ]
    },
    {
      "cell_type": "code",
      "execution_count": null,
      "metadata": {
        "id": "8meqrVn-pd5m"
      },
      "outputs": [],
      "source": [
        "#2 use-\n",
        "'''list - list are used when you have collection of item may need to modified.\n",
        "   tuple - tuple are used when you have collection of item may need not be  modified.'''\n",
        "tuple_empid = (e001,e002,e003) #tuple\n",
        "list_fruit= ['aaple','licchi','banana'] #list\n",
        "\n"
      ]
    },
    {
      "cell_type": "code",
      "execution_count": null,
      "metadata": {
        "id": "hS8Wpvh2pd5m"
      },
      "outputs": [],
      "source": [
        "#performence -\n",
        "'''list-  list are slow in terms of performence bcz it have mutability.\n",
        "   tuple -tuple are  fast as compare to the list in terms of performence\n",
        "          bcz it do not have mutability.'''"
      ]
    },
    {
      "cell_type": "markdown",
      "metadata": {
        "id": "PnSeFATOpd5m"
      },
      "source": []
    },
    {
      "cell_type": "markdown",
      "metadata": {
        "id": "3ySdz5idpd5n"
      },
      "source": [
        "# ques -5 Describe the key feature of the set and provide the example of their use ?"
      ]
    },
    {
      "cell_type": "code",
      "execution_count": null,
      "metadata": {
        "id": "5yiKIzpkpd5n"
      },
      "outputs": [],
      "source": [
        "#Ans 5 -\n",
        "#SET- set are unique collection of the element.Whic only store the unique value in it .\n",
        " #    feature of set as bellow -\n",
        "\n",
        "#a-unique - it remove duplecate value automaticlly.\n",
        "\n",
        "num3 = {1,1,2, 2, 3, 4,90}\n",
        "print(num3) #: {1,2,3,4,90}"
      ]
    },
    {
      "cell_type": "code",
      "execution_count": null,
      "metadata": {
        "id": "YILaEutBpd5n"
      },
      "outputs": [],
      "source": [
        "#b-Unordered Collection- indexing is not possible bcz it is  stored in unordered way"
      ]
    },
    {
      "cell_type": "code",
      "execution_count": null,
      "metadata": {
        "id": "o7qMpMAwpd5n"
      },
      "outputs": [],
      "source": [
        "#c-Efficient Membership Testing: Membership testing is possible and easy .\n",
        "set = {1, 2, 3, 4,90}\n",
        "print(89 in set)#false"
      ]
    },
    {
      "cell_type": "code",
      "execution_count": null,
      "metadata": {
        "id": "IosztT2Epd5o"
      },
      "outputs": [],
      "source": [
        "#d-Mutable- Sets are mutable in nature .that mean we can do change once created.\n",
        "num = {1, 2, 6,7,9}\n",
        "num.add(8)#{1, 2, 6,7,9}"
      ]
    },
    {
      "cell_type": "code",
      "execution_count": null,
      "metadata": {
        "id": "h7-Z4QGFpd5o",
        "outputId": "74f5b855-5ac7-4166-e8aa-72156881383a"
      },
      "outputs": [
        {
          "name": "stdout",
          "output_type": "stream",
          "text": [
            "{7}\n"
          ]
        }
      ],
      "source": [
        "#e-mathematical Set Operation- addition ,intersection , union and diffrence are possible.\n",
        "set1 = {4, 5, 7}\n",
        "set2 = {7, 8, 9}\n",
        "union = set1&set2\n",
        "print(set1&set2)  #: 7"
      ]
    },
    {
      "cell_type": "markdown",
      "metadata": {
        "id": "Y7A7Osc9pd5p"
      },
      "source": []
    },
    {
      "cell_type": "markdown",
      "metadata": {
        "id": "CcVT5GLMpd5p"
      },
      "source": [
        "# ques6 -Discuss the use case of tuple and set in python programming."
      ]
    },
    {
      "cell_type": "code",
      "execution_count": null,
      "metadata": {
        "id": "dFB-GVh1pd5p"
      },
      "outputs": [],
      "source": [
        "#ans6---\n",
        "#1 Tuple-\n",
        "#a-immutable data storage - Its Used to store the collaection of item that can not be edited and\n",
        "#                           modified throughout the program execution.that ensure the data integrity.EXample - emplyoee id , dimensions .\n",
        "\n",
        "#b-Tuple are used to pass multiple as single entry of the function and return one or more value from the function.\n",
        "\n",
        "#d Tuple are memory efficient as copare to the the list . it store less space in memory\n",
        "#c Tuple are fast in terms of speed as compare to the list dict bcz thse are not mutable."
      ]
    },
    {
      "cell_type": "code",
      "execution_count": null,
      "metadata": {
        "id": "ke7Tr9T6pd5p"
      },
      "outputs": [],
      "source": [
        "#2 sets-\n",
        "#a-Set are the collection of the unique item. they automaticlly removes the duplicate value.\n",
        "myset = {1,1,2, 2, 3, 4,90}\n",
        "print(myset) #: {1,2,3,4,90}\n",
        "#b-Membership testing are easy in set. which check the element exists in the set in avarage o(1) time complexity.\n",
        "set = {1, 2, 3, 4,90}\n",
        "print(3 in set)#true\n",
        "#c-Matcmetical operation sum diffrence intersection are possible.\n",
        "set1 = {4, 5, 7}\n",
        "set2 = {7, 8, 9}\n",
        "union = set1|set2 #: {4,5,6,7,8,9,}\n",
        "\n",
        "#d-set are used to filter the unique items from a large dataset efficiently."
      ]
    },
    {
      "cell_type": "markdown",
      "metadata": {
        "id": "H45LgN1apd5q"
      },
      "source": []
    },
    {
      "cell_type": "markdown",
      "metadata": {
        "id": "-_9uCI8Zpd5q"
      },
      "source": [
        "# QUES 7 - DESCRIBE HOW TO ADD MODIFY AND DELETE THE ITEM IN DICTIONARY WITH EXAMPLE.\n"
      ]
    },
    {
      "cell_type": "code",
      "execution_count": null,
      "metadata": {
        "id": "GMORGr7jpd5q",
        "outputId": "9df2a391-ec81-4764-ca68-4adbad4ca4d7"
      },
      "outputs": [
        {
          "name": "stdout",
          "output_type": "stream",
          "text": [
            "{'name': 'alice', 'age': 26, 'city': 'khairpur', 'email': 'xyz@gmail.com'}\n"
          ]
        }
      ],
      "source": [
        "#ADD ITEM - TO ADD ITEM WE ASSIGN THE VALUE TO THE NEW KEY OR WE CAN UPDATE EXISTING KEY.\n",
        "dict = {\"name\":\"alice\",\"age\":26,\"city\":\"khairpur\"}\n",
        "dict[\"email\"]=\"xyz@gmail.com\"\n",
        "print(dict) #:{'name': 'alice', 'age': 26, 'city': 'khairpur', 'email': 'xyz@gmail.com'}"
      ]
    },
    {
      "cell_type": "code",
      "execution_count": null,
      "metadata": {
        "id": "7V-HEXfnpd5r",
        "outputId": "c0bbc3e5-1430-49d0-e8bb-e8d5bef57417"
      },
      "outputs": [
        {
          "data": {
            "text/plain": [
              "{'name': 'alice', 'age': 26, 'city': 'khairpur', 'email': 'abc@hmmail.com'}"
            ]
          },
          "execution_count": 29,
          "metadata": {},
          "output_type": "execute_result"
        }
      ],
      "source": [
        "#Modifying Items in a Dictionary- we gove mew value to existing key.\n",
        "#Example:\n",
        "dict[\"email\"]=\"abc@hmmail.com\"\n",
        "print(dict)#;{'name': 'alice', 'age': 26, 'city': 'khairpur', 'email': 'abc@hmmail.com'}"
      ]
    },
    {
      "cell_type": "code",
      "execution_count": null,
      "metadata": {
        "id": "1JEUzOmOpd5r",
        "outputId": "547d4ac3-83e1-469d-db91-87c81b609cca"
      },
      "outputs": [
        {
          "data": {
            "text/plain": [
              "{'name': 'alice', 'email': 'abc@hmmail.com', 'city': 'khairpur'}"
            ]
          },
          "execution_count": 36,
          "metadata": {},
          "output_type": "execute_result"
        }
      ],
      "source": [
        "dict['city']='khairpur'\n",
        "dict"
      ]
    },
    {
      "cell_type": "code",
      "execution_count": null,
      "metadata": {
        "id": "FGZVO8eYpd5s"
      },
      "outputs": [],
      "source": [
        "#Delete- For deleting the element we can use the del or pop function.\n",
        "\n",
        "del dict['age']\n",
        "print(dict)     #{'name': 'alice', 'email': 'abc@hmmail.com', 'city': 'khairpur'}"
      ]
    },
    {
      "cell_type": "markdown",
      "metadata": {
        "id": "arOaey-npd5s"
      },
      "source": []
    },
    {
      "cell_type": "markdown",
      "metadata": {
        "id": "SERlWEatpd5s"
      },
      "source": [
        "# ques8 Discuss the importance of dictionary keys being imMutable provide example."
      ]
    },
    {
      "cell_type": "code",
      "execution_count": 1,
      "metadata": {
        "colab": {
          "base_uri": "https://localhost:8080/"
        },
        "id": "q9Qb_PLnpd5t",
        "outputId": "b43986ce-538a-4112-ee52-1fa14fe93c41"
      },
      "outputs": [
        {
          "output_type": "stream",
          "name": "stdout",
          "text": [
            "{(1, 2, 3): 'This shshank'}\n"
          ]
        }
      ],
      "source": [
        "#ans -8\n",
        "#a-Dictionary keys are always hashable, which means they need to compute a stable hash value\n",
        "           #that determines their storage location within the hash table.\n",
        "#b Efficency -this provide us quick lookup element addtion and deletions by having satble hash value .\n",
        "#c Security:- immutable keys ensure the structure of Dictionary is maintained, that help us to remove the chance unintended changes to keys.\n",
        "#d Reliability: immutable keys provide the consistent and  predictable nature  that ensure one key is it will be always stable.\n",
        "key = (1, 2, 3)\n",
        "dict = {key: \"This shshank\"}\n",
        "print(dict)"
      ]
    },
    {
      "cell_type": "code",
      "source": [],
      "metadata": {
        "id": "WXcqCGgcwnx_"
      },
      "execution_count": null,
      "outputs": []
    },
    {
      "cell_type": "code",
      "execution_count": null,
      "metadata": {
        "id": "yspdVBHFpd5t"
      },
      "outputs": [],
      "source": []
    }
  ],
  "metadata": {
    "kernelspec": {
      "display_name": "Python 3",
      "language": "python",
      "name": "python3"
    },
    "language_info": {
      "codemirror_mode": {
        "name": "ipython",
        "version": 3
      },
      "file_extension": ".py",
      "mimetype": "text/x-python",
      "name": "python",
      "nbconvert_exporter": "python",
      "pygments_lexer": "ipython3",
      "version": "3.11.9"
    },
    "colab": {
      "provenance": [],
      "include_colab_link": true
    }
  },
  "nbformat": 4,
  "nbformat_minor": 0
}