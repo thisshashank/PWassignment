{
  "cells": [
    {
      "cell_type": "markdown",
      "metadata": {
        "id": "view-in-github",
        "colab_type": "text"
      },
      "source": [
        "<a href=\"https://colab.research.google.com/github/thisshashank/PWassignment/blob/main/module_9_assignment_12_spt.ipynb\" target=\"_parent\"><img src=\"https://colab.research.google.com/assets/colab-badge.svg\" alt=\"Open In Colab\"/></a>"
      ]
    },
    {
      "cell_type": "markdown",
      "metadata": {
        "id": "dwKtu_fMtVPN"
      },
      "source": [
        "# Q1. Discuss the scenarios where multithreading is preferable to multiprocessing and scenarios where multiprocessing is a better choice."
      ]
    },
    {
      "cell_type": "markdown",
      "metadata": {
        "id": "bWf6NnT2tVPP"
      },
      "source": [
        "Multithreading is better for:\n",
        "I/O-bound tasks (network requests, file I/O).\n",
        "Lightweight concurrency, where shared memory access is needed.\n",
        "Low CPU usage, when tasks involve waiting (e.g., web servers).\n",
        "\n",
        "Multiprocessing is better for:\n",
        "CPU-bound tasks (data processing, machine learning).\n",
        "Bypassing the GIL for full use of multiple CPU cores.\n",
        "Task isolation, where independent tasks need to run safely."
      ]
    },
    {
      "cell_type": "markdown",
      "metadata": {
        "id": "bxBxY0TGtVPQ"
      },
      "source": [
        "# Q2 Describe what a process pool is and how it helps in managing multiple processes efficiently."
      ]
    },
    {
      "cell_type": "markdown",
      "metadata": {
        "id": "4geEswKUtVPQ"
      },
      "source": [
        "A process pool is a collection of worker processes that can be reused to execute tasks. It helps manage multiple processes efficiently by:\n",
        "\n",
        "A.Limiting the number of processes: Instead of creating a new process for every task, a fixed number of processes are created and reused, reducing overhead.\n",
        "\n",
        "B. Load balancing: Tasks are distributed across available processes in the pool, optimizing CPU usage.\n",
        "\n",
        "c. Simplified parallelism: It abstracts process creation and management, making parallel execution easier to implement."
      ]
    },
    {
      "cell_type": "markdown",
      "metadata": {
        "id": "9TCaLY1CtVPQ"
      },
      "source": [
        "# Q3. Explain what multiprocessing is and why it is used in Python programs."
      ]
    },
    {
      "cell_type": "markdown",
      "metadata": {
        "id": "GkK67S2OtVPR"
      },
      "source": [
        "Multiprocessing-\n",
        "Multiprocessing in Python involves running multiple processes in parallel to improve performance, especially for CPU-bound tasks. Unlike threading, which is limited by Python’s Global Interpreter Lock (GIL), multiprocessing uses separate memory spaces for each process, enabling true parallel execution.\n",
        "\n",
        "Use-\n",
        "a-Allows parallel execution without GIL limitations.\n",
        "b-Improves Performance: Distributes computational tasks across multiple CPU cores.\n",
        "c- Each process has its own memory space, reducing interference."
      ]
    },
    {
      "cell_type": "code",
      "execution_count": null,
      "metadata": {
        "id": "yDvpJ4-etVPS"
      },
      "outputs": [],
      "source": [
        "from multiprocessing import Pool\n",
        "\n",
        "def compute_square(n):\n",
        "    return n * n\n",
        "\n",
        "no = [1, 2, 3, 4, 5]\n",
        "with Pool(3) as pool:\n",
        "    # Compute squares in parallel\n",
        "    results = pool.map(compute_square, no)\n",
        "\n",
        "print(\"Squares:\", results)\n"
      ]
    },
    {
      "cell_type": "markdown",
      "metadata": {
        "id": "haLJTBOLtVPS"
      },
      "source": [
        "# Q4. Write a Python program using multithreading where one thread adds numbers to a list, and another thread removes numbers from the list. Implement a mechanism to avoid race conditions using threading.Lock."
      ]
    },
    {
      "cell_type": "code",
      "execution_count": null,
      "metadata": {
        "id": "J6Q8hkvvtVPT",
        "outputId": "9d77fc3a-8ace-492d-c7a2-3b463b0ccce3"
      },
      "outputs": [
        {
          "name": "stdout",
          "output_type": "stream",
          "text": [
            "Added: 0\n",
            "Added: 1\n",
            "Added: 2\n",
            "Removed: 0\n",
            "Added: 3\n",
            "Removed: 1\n",
            "Added: 4\n",
            "Removed: 2\n",
            "Removed: 3\n",
            "Removed: 4\n",
            "Final list: []\n"
          ]
        }
      ],
      "source": [
        "import threading\n",
        "import time\n",
        "\n",
        "\n",
        "shared_list = []\n",
        "\n",
        "lock = threading.Lock()\n",
        "\n",
        "def add_numbers():\n",
        "    for i in range(5):\n",
        "        with lock:\n",
        "            shared_list.append(i)\n",
        "            print(f\"Added: {i}\")\n",
        "        time.sleep(1)\n",
        "\n",
        "\n",
        "def remove_numbers():\n",
        "    for _ in range(5):\n",
        "        time.sleep(2)\n",
        "        with lock:\n",
        "            if shared_list:\n",
        "                removed = shared_list.pop(0)\n",
        "                print(f\"Removed: {removed}\")\n",
        "            else:\n",
        "                print(\"List is empty, nothing to remove.\")\n",
        "\n",
        "adder_thread = threading.Thread(target=add_numbers)\n",
        "remover_thread = threading.Thread(target=remove_numbers)\n",
        "\n",
        "adder_thread.start()\n",
        "remover_thread.start()\n",
        "\n",
        "adder_thread.join()\n",
        "remover_thread.join()\n",
        "\n",
        "print(\"Final list:\", shared_list)\n"
      ]
    },
    {
      "cell_type": "markdown",
      "metadata": {
        "id": "B4f2vQjmtVPU"
      },
      "source": [
        "# Q5. Describe the methods and tools available in Python for safely sharing data between threads and processes."
      ]
    },
    {
      "cell_type": "code",
      "execution_count": null,
      "metadata": {
        "id": "wsKrSBGFtVPV"
      },
      "outputs": [],
      "source": [
        "# Q1.\n",
        "# 1 Thread Synchronization Tools-\n",
        "# A-threading.Lock-Ensures only one thread accesses a resource at a time.\n",
        "\n",
        "import threading\n",
        "\n",
        "lock = threading.Lock()\n",
        "\n",
        "def thread_safe_function():\n",
        "    with lock:"
      ]
    },
    {
      "cell_type": "code",
      "execution_count": null,
      "metadata": {
        "id": "J-QBwOQxtVPV"
      },
      "outputs": [],
      "source": [
        "# B-threading.RLock:- A reentrant lock allowing a thread to acquire it multiple times.\n",
        "\n",
        "\n",
        "rlock = threading.RLock()\n",
        "\n",
        "def thread_safe_function():\n",
        "    with rlock:\n",
        "\n",
        "\n"
      ]
    },
    {
      "cell_type": "code",
      "execution_count": null,
      "metadata": {
        "id": "R9WxztSdtVPV"
      },
      "outputs": [],
      "source": [
        "#C- threading.Semaphore:-  Limits the number of threads accessing a resource.\n",
        "\n",
        "\n",
        "semaphore = threading.Semaphore(3)  # Allow up to 3 threads\n",
        "\n",
        "def thread_safe_function():\n",
        "    with semaphore:\n",
        "        # Critical section\n"
      ]
    },
    {
      "cell_type": "code",
      "execution_count": null,
      "metadata": {
        "id": "AzMA1P0ftVPW"
      },
      "outputs": [],
      "source": [
        "# D-threading.Event: Allows threads to signal each other.\n",
        "\n",
        "\n",
        "event = threading.Event()\n",
        "\n",
        "def waiting_thread():\n",
        "    event.wait()\n",
        "\n",
        "def signaling_thread():\n",
        "    event.set()"
      ]
    },
    {
      "cell_type": "code",
      "execution_count": null,
      "metadata": {
        "id": "1T7rNEXjtVPW"
      },
      "outputs": [],
      "source": [
        "#E -threading.Condition: Waits for and signals conditions between threads.\n",
        "\n",
        "\n",
        "condition = threading.Condition()\n",
        "\n",
        "def producer():\n",
        "    with condition:\n",
        "        # Produce data\n",
        "        condition.notify()\n",
        "def consumer():\n",
        "    with condition:\n",
        "        condition.wait()"
      ]
    },
    {
      "cell_type": "code",
      "execution_count": null,
      "metadata": {
        "id": "x7uEmSRztVPW"
      },
      "outputs": [],
      "source": [
        "#2. Process Synchronization-\n",
        "# A multiprocessing.Lock: Similar to threading.Lock but for processes.\n",
        "\n",
        "\n",
        "lock = Lock()\n",
        "\n",
        "def process_safe_function():\n",
        "    with lock:\n",
        "\n",
        "\n"
      ]
    },
    {
      "cell_type": "code",
      "execution_count": null,
      "metadata": {
        "id": "YNVgNcUatVPW"
      },
      "outputs": [],
      "source": [
        "#B multiprocessing.Queue: A thread- and process-safe queue for inter-process communication.\n",
        "\n",
        "\n",
        "queue = Queue()\n",
        "\n",
        "def producer():\n",
        "    queue.put(item)\n",
        "def consumer():\n",
        "    item = queue.get()"
      ]
    },
    {
      "cell_type": "code",
      "execution_count": null,
      "metadata": {
        "id": "PTjyP4qbtVPX"
      },
      "outputs": [],
      "source": [
        "#C- multiprocessing.Queue: A thread- and process-safe FIFO queue for exchanging data between processes.\n",
        "from multiprocessing import Queue\n",
        "\n",
        "queue = Queue()\n",
        "\n",
        "def producer():\n",
        "    queue.put('data')\n",
        "def consumer():\n",
        "    data = queue.get()\n"
      ]
    },
    {
      "cell_type": "code",
      "execution_count": null,
      "metadata": {
        "id": "YjmB0sattVPX"
      },
      "outputs": [],
      "source": [
        "#D -multiprocessing.Pipe: Provides a two-way communication channel between processes. It’s useful for sending and receiving data.\n",
        "from multiprocessing import Pipe\n",
        "\n",
        "parent_conn, child_conn = Pipe()\n",
        "\n",
        "def producer():\n",
        "    parent_conn.send('data')  # Send data through the pipe\n",
        "\n",
        "def consumer():\n",
        "    data = child_conn.recv()  # Receive data from the pipe\n"
      ]
    },
    {
      "cell_type": "code",
      "execution_count": null,
      "metadata": {
        "id": "-ZKvRKJ7tVPX"
      },
      "outputs": [],
      "source": [
        "#E - multiprocessing.Event: Similar to threading.Event, used for process synchronization to signal and wait for events.\n",
        "from multiprocessing import Event\n",
        "\n",
        "event = Event()\n",
        "\n",
        "def worker():\n",
        "    event.wait()  # Wait for the event to be set\n",
        "\n",
        "def signal():\n",
        "    event.set()  # Set the event, waking up waiting processes\n"
      ]
    },
    {
      "cell_type": "markdown",
      "metadata": {
        "id": "Hq4RUU8ItVPY"
      },
      "source": [
        "# Q6. Discuss why it’s crucial to handle exceptions in concurrent programs and the techniques available for doing so."
      ]
    },
    {
      "cell_type": "markdown",
      "metadata": {
        "id": "z7u2oC1JtVPY"
      },
      "source": [
        "   Importance of Handling Exceptions in Concurrent Programs\n",
        "1. Prevent Crashes: Unhandled exceptions can crash or destabilize the entire application. Proper handling ensures that failures are contained.\n",
        "\n",
        "2. Maintain Data Integrity: Exceptions can corrupt shared data. Handling them prevents data inconsistency and corruption.\n",
        "\n",
        "3. Facilitate Debugging: Clear exception handling provides meaningful error messages, aiding in faster diagnosis and resolution of issues.\n",
        "\n",
        "4. Enhance Robustness: Proper exception management helps programs recover from errors, maintaining overall system reliability."
      ]
    },
    {
      "cell_type": "markdown",
      "metadata": {
        "id": "H3xjV3RCtVPY"
      },
      "source": [
        "# Techniques for Handling Exceptions"
      ]
    },
    {
      "cell_type": "code",
      "execution_count": null,
      "metadata": {
        "id": "tlJ_KG4ntVPY"
      },
      "outputs": [],
      "source": [
        "#Thread-Level: Try-Except Blocks: Wrap code in threads with try-except to catch and manage exceptions locally.\n",
        "import threading\n",
        "\n",
        "def thread_function():\n",
        "    try:\n",
        "\n",
        "        pass\n",
        "    except Exception as e:\n",
        "        print(f\"Exception in thread: {e}\")\n",
        "\n",
        "thread = threading.Thread(target=thread_function)\n",
        "thread.start()\n",
        "thread.join()\n"
      ]
    },
    {
      "cell_type": "code",
      "execution_count": null,
      "metadata": {
        "id": "XuSMh2IQtVPY"
      },
      "outputs": [],
      "source": [
        "# B -Process-Level: Try-Except in Processes: Use try-except within process functions and monitor exit codes.\n",
        "from multiprocessing import Process\n",
        "\n",
        "def process_function():\n",
        "    try:\n",
        "        # Code that might raise an exception\n",
        "        pass\n",
        "    except Exception as e:\n",
        "        print(f\"Exception in process: {e}\")\n",
        "\n",
        "process = Process(target=process_function)\n",
        "process.start()\n",
        "process.join()\n",
        "\n"
      ]
    },
    {
      "cell_type": "code",
      "execution_count": null,
      "metadata": {
        "id": "kcOzKA5ktVPY"
      },
      "outputs": [],
      "source": [
        "#C- Exit Code Monitoring: Check the exit code of processes to detect errors.\n",
        "def monitor_process():\n",
        "    proc = Process(target=process_function)\n",
        "    proc.start()\n",
        "    proc.join()\n",
        "    if proc.exitcode != 0:\n",
        "        print(f\"Process ended with error code {proc.exitcode}\")\n",
        "\n",
        "monitor_process()\n"
      ]
    },
    {
      "cell_type": "code",
      "execution_count": null,
      "metadata": {
        "id": "1snF5lH8tVPZ"
      },
      "outputs": [],
      "source": [
        "# D - Communication-Based: Using multiprocessing.Queue: Report exceptions from processes to a central queue for handling.\n",
        "from multiprocessing import Process, Queue\n",
        "\n",
        "def process_function(queue):\n",
        "    try:\n",
        "        # Code that might raise an exception\n",
        "        pass\n",
        "    except Exception as e:\n",
        "        queue.put(f\"Exception in process: {e}\")\n",
        "\n",
        "def monitor_process():\n",
        "    queue = Queue()\n",
        "    proc = Process(target=process_function, args=(queue,))\n",
        "    proc.start()\n",
        "    proc.join()\n",
        "    while not queue.empty():\n",
        "        print(queue.get())\n",
        "\n",
        "monitor_process()\n"
      ]
    },
    {
      "cell_type": "markdown",
      "metadata": {
        "id": "y_BDtitytVPZ"
      },
      "source": []
    },
    {
      "cell_type": "markdown",
      "metadata": {
        "id": "1ei52nIHtVPZ"
      },
      "source": [
        "# 7. Create a program that uses a thread pool to calculate the factorial of numbers from 1 to 10 concurrently.Use concurrent.futures.ThreadPoolExecutor to manage the threads."
      ]
    },
    {
      "cell_type": "code",
      "execution_count": null,
      "metadata": {
        "id": "dTWz2bYAtVPZ",
        "outputId": "cc671b50-61ec-46d4-b870-3c077acb52c1"
      },
      "outputs": [
        {
          "name": "stdout",
          "output_type": "stream",
          "text": [
            "Factorial of 1 is 1\n",
            "Factorial of 2 is 2\n",
            "Factorial of 3 is 6\n",
            "Factorial of 4 is 24\n",
            "Factorial of 5 is 120\n",
            "Factorial of 6 is 720\n",
            "Factorial of 7 is 5040\n",
            "Factorial of 8 is 40320\n",
            "Factorial of 9 is 362880\n",
            "Factorial of 10 is 3628800\n"
          ]
        }
      ],
      "source": [
        "import concurrent.futures\n",
        "import math\n",
        "\n",
        "def compute_factorial(n):\n",
        "    return math.factorial(n)\n",
        "\n",
        "def main():\n",
        "    numbers = range(1, 11)\n",
        "\n",
        "    with concurrent.futures.ThreadPoolExecutor() as executor:\n",
        "\n",
        "        results = list(executor.map(compute_factorial, numbers))\n",
        "\n",
        "    # Print results\n",
        "    for number, factorial in zip(numbers, results):\n",
        "        print(f\"Factorial of {number} is {factorial}\")\n",
        "\n",
        "if __name__ == \"__main__\":\n",
        "    main()\n"
      ]
    },
    {
      "cell_type": "markdown",
      "metadata": {
        "id": "w5qpoduCtVPa"
      },
      "source": []
    },
    {
      "cell_type": "markdown",
      "metadata": {
        "id": "uWEsL9OatVPa"
      },
      "source": [
        "# 8. Create a Python program that uses multiprocessing.Pool to compute the square of numbers from 1 to 10 in parallel. Measure the time taken to perform this computation using a pool of different sizes (e.g., 2, 4 8 processes)."
      ]
    },
    {
      "cell_type": "code",
      "execution_count": null,
      "metadata": {
        "id": "TSXSt3A-tVPa"
      },
      "outputs": [],
      "source": [
        "import multiprocessing\n",
        "import time\n",
        "\n",
        "def square_number(n):\n",
        "    return n * n\n",
        "\n",
        "def measure_time(pool_size):\n",
        "    numbers = list(range(1, 11))\n",
        "\n",
        "    with multiprocessing.Pool(processes=pool_size) as pool:\n",
        "        start_time = time.time()\n",
        "\n",
        "        results = pool.map(square_number, numbers)\n",
        "\n",
        "        end_time = time.time()\n",
        "    print(f\"Pool size: {pool_size}\")\n",
        "    print(f\"Results: {results}\")\n",
        "    print(f\"Time taken: {end_time - start_time:.4f} seconds\\n\")\n",
        "\n",
        "if __name__ == \"__main__\":\n",
        "    # Test with different pool sizes\n",
        "    pool_sizes = [2, 4, 8]\n",
        "\n",
        "    for size in pool_sizes:\n",
        "        measure_time(size)\n"
      ]
    }
  ],
  "metadata": {
    "kernelspec": {
      "display_name": "base",
      "language": "python",
      "name": "python3"
    },
    "language_info": {
      "codemirror_mode": {
        "name": "ipython",
        "version": 3
      },
      "file_extension": ".py",
      "mimetype": "text/x-python",
      "name": "python",
      "nbconvert_exporter": "python",
      "pygments_lexer": "ipython3",
      "version": "3.11.3"
    },
    "colab": {
      "provenance": [],
      "include_colab_link": true
    }
  },
  "nbformat": 4,
  "nbformat_minor": 0
}